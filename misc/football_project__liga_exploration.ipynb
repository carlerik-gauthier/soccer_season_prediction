{
 "cells": [
  {
   "cell_type": "code",
   "execution_count": null,
   "metadata": {},
   "outputs": [],
   "source": [
    "import pandas as pd\n",
    "import numpy as np\n",
    "import seaborn as sns\n",
    "import plotly # https://plotly.com/python/\n",
    "import random\n",
    "import plotly.graph_objects as go\n",
    "import plotly.express as px\n",
    "from copy import deepcopy\n",
    "from webcolors import name_to_rgb\n",
    "\n",
    "# https://community.plotly.com/t/plotly-colours-list/11730/3\n",
    "# https://community.plotly.com/t/different-colors-for-bars-in-barchart-by-their-value/6527/7\n",
    "# https://plotly.com/python/continuous-error-bars/\n",
    "# https://community.plotly.com/t/plotly-colours-list/11730/5"
   ]
  },
  {
   "cell_type": "code",
   "execution_count": null,
   "metadata": {},
   "outputs": [],
   "source": [
    "# 1. plot the evolution in term of points, goal diff and goal scores wrt to leg and according to final rank\n",
    "#      --> average path + standard deviation\n",
    "# 2. Home/Away advantage : pts won; goal scored; goal conceded\n",
    "# 2.b Rank Performance : pts won; goal scored; goal conceded (scatterplot)\n",
    "# 3. Winter champion vs Final Champion // Winter situation vs Final situation\n",
    "# 4. Team Performance wrt seasons : ranks, total goal scored and conceded, Home/Away results (min 10 seasons) \n",
    "# 5. Average/Std Team Performance wrt to legs (min 10 seasons) "
   ]
  },
  {
   "cell_type": "markdown",
   "metadata": {},
   "source": [
    "# 0. Data Preparation"
   ]
  },
  {
   "cell_type": "code",
   "execution_count": null,
   "metadata": {},
   "outputs": [],
   "source": [
    "def prepare_data():\n",
    "    # TO BE DONE IN REFACTO\n",
    "    pass"
   ]
  },
  {
   "cell_type": "code",
   "execution_count": null,
   "metadata": {},
   "outputs": [],
   "source": [
    "liga_df = pd.read_csv('liga_data_2004_2019').drop(columns='Unnamed: 0')\n",
    "# les données des saisons 2002-2003 et 2003-2004 de Ligue 1 sont foireuses"
   ]
  },
  {
   "cell_type": "code",
   "execution_count": null,
   "metadata": {},
   "outputs": [],
   "source": [
    "liga_df['goal_diff'] = liga_df['goals_scored'] - liga_df['goals_conceded']"
   ]
  },
  {
   "cell_type": "code",
   "execution_count": null,
   "metadata": {},
   "outputs": [],
   "source": [
    "# ligue1_df"
   ]
  },
  {
   "cell_type": "code",
   "execution_count": null,
   "metadata": {},
   "outputs": [],
   "source": [
    "liga_df['cum_pts'] = liga_df[['season', 'team', 'nb_points']].groupby(\n",
    "    by=['season', 'team']).cumsum()"
   ]
  },
  {
   "cell_type": "code",
   "execution_count": null,
   "metadata": {},
   "outputs": [],
   "source": [
    "liga_df['cum_goal_diff'] = liga_df[['season', 'team', 'goal_diff']].groupby(\n",
    "    by=['season', 'team']).cumsum()"
   ]
  },
  {
   "cell_type": "code",
   "execution_count": null,
   "metadata": {},
   "outputs": [],
   "source": [
    "liga_df['cum_goals_scored'] = liga_df[['season', 'team', 'goals_scored']].groupby(\n",
    "    by=['season', 'team']).cumsum()"
   ]
  },
  {
   "cell_type": "code",
   "execution_count": null,
   "metadata": {},
   "outputs": [],
   "source": [
    "liga_df['cum_goals_conceded'] = liga_df['cum_goals_scored']-liga_df['cum_goal_diff']\n"
   ]
  },
  {
   "cell_type": "code",
   "execution_count": null,
   "metadata": {
    "scrolled": true
   },
   "outputs": [],
   "source": [
    "liga_df['rank'] = liga_df[['season', 'leg', 'cum_pts', 'cum_goal_diff', 'cum_goals_scored']\n",
    "                             ].sort_values(by=['cum_pts', 'cum_goal_diff', 'cum_goals_scored'],\n",
    "                                           ascending=False\n",
    "                                          ).groupby(by=['season', 'leg']).cumcount() + 1"
   ]
  },
  {
   "cell_type": "code",
   "execution_count": null,
   "metadata": {},
   "outputs": [],
   "source": [
    "liga_df['avg_goals_scored_since_season_start'] = liga_df['cum_goals_scored'].div(liga_df['leg'])"
   ]
  },
  {
   "cell_type": "code",
   "execution_count": null,
   "metadata": {},
   "outputs": [],
   "source": [
    "liga_df['avg_goals_conceded_since_season_start'] = liga_df['cum_goals_conceded'].div(liga_df['leg'])"
   ]
  },
  {
   "cell_type": "code",
   "execution_count": null,
   "metadata": {},
   "outputs": [],
   "source": [
    "# liga_df[['season', 'leg', 'country']].groupby(by=['season', 'leg']).count()"
   ]
  },
  {
   "cell_type": "code",
   "execution_count": null,
   "metadata": {},
   "outputs": [],
   "source": [
    "# removed 2 useless seasons\n",
    "liga_data = deepcopy(liga_df)\n",
    "# ligue1_data.reset_index(drop=True, inplace=True)"
   ]
  },
  {
   "cell_type": "code",
   "execution_count": null,
   "metadata": {},
   "outputs": [],
   "source": [
    "def rolling_mean_n_performance(df, window=5, performance_col='goals_scored'):\n",
    "    dg = df.sort_values(by=['leg'])[['season', 'team', performance_col]].groupby(\n",
    "        by=['season', 'team'])[performance_col].rolling(window=window).mean().reset_index()\n",
    "    \n",
    "    new_col_name = f'rolling_{window}_games_avg_{performance_col}'\n",
    "    df[new_col_name] = dg.set_index('level_2')[performance_col]\n",
    "    return df"
   ]
  },
  {
   "cell_type": "code",
   "execution_count": null,
   "metadata": {},
   "outputs": [],
   "source": [
    "liga_data = rolling_mean_n_performance(df=liga_data, window=5, performance_col='goals_conceded')"
   ]
  },
  {
   "cell_type": "code",
   "execution_count": null,
   "metadata": {},
   "outputs": [],
   "source": [
    "liga_data = rolling_mean_n_performance(df=liga_data, window=5, performance_col='goals_scored')"
   ]
  },
  {
   "cell_type": "code",
   "execution_count": null,
   "metadata": {},
   "outputs": [],
   "source": [
    "# ligue1_data.head()"
   ]
  },
  {
   "cell_type": "code",
   "execution_count": null,
   "metadata": {
    "scrolled": true
   },
   "outputs": [],
   "source": [
    "end_season = liga_data[liga_data.leg==38].rename(columns={'rank':'final_rank'})\n",
    "# end_season_L1"
   ]
  },
  {
   "cell_type": "code",
   "execution_count": null,
   "metadata": {},
   "outputs": [],
   "source": [
    "liga_data = liga_data.merge(end_season[['season', 'team', 'final_rank']], on=['season', 'team'])"
   ]
  },
  {
   "cell_type": "code",
   "execution_count": null,
   "metadata": {
    "scrolled": true
   },
   "outputs": [],
   "source": [
    "# ligue1_data.drop(columns=['previous_leg', 'previous_team_rank'], inplace=True)"
   ]
  },
  {
   "cell_type": "code",
   "execution_count": null,
   "metadata": {},
   "outputs": [],
   "source": [
    "# ligue1_data"
   ]
  },
  {
   "cell_type": "code",
   "execution_count": null,
   "metadata": {},
   "outputs": [],
   "source": [
    "def get_past_feature(df, feat_col, team=True):\n",
    "\n",
    "    merge_col = 'team' if team else 'opponent'    \n",
    "    tmp_df = deepcopy(df[['season', 'leg', merge_col, feat_col]])\n",
    "    tmp_df.loc[:,'next_leg'] = tmp_df['leg'] +1\n",
    "\n",
    "    tmp_df.rename(columns={'leg': 'previous_leg', \n",
    "                           'next_leg':'leg', \n",
    "                           feat_col:f'previous_{merge_col}_{feat_col}'},\n",
    "                  inplace=True)\n",
    "\n",
    "    df = df.merge(tmp_df, how='left', on=['leg', 'season', merge_col])\n",
    "    df.drop(columns=['previous_leg'], inplace=True)\n",
    "    return df"
   ]
  },
  {
   "cell_type": "code",
   "execution_count": null,
   "metadata": {},
   "outputs": [],
   "source": [
    "liga_data = get_past_feature(df=liga_data, feat_col='rank', team=True)\n",
    "#ligue1_data"
   ]
  },
  {
   "cell_type": "code",
   "execution_count": null,
   "metadata": {},
   "outputs": [],
   "source": [
    "liga_data = get_past_feature(df=liga_data, feat_col='rank', team=False)"
   ]
  },
  {
   "cell_type": "code",
   "execution_count": null,
   "metadata": {},
   "outputs": [],
   "source": [
    "liga_data = get_past_feature(df=liga_data, feat_col='rolling_5_games_avg_goals_scored', team=True)"
   ]
  },
  {
   "cell_type": "code",
   "execution_count": null,
   "metadata": {},
   "outputs": [],
   "source": [
    "liga_data = get_past_feature(df=liga_data, feat_col='rolling_5_games_avg_goals_conceded', team=False)"
   ]
  },
  {
   "cell_type": "code",
   "execution_count": null,
   "metadata": {
    "scrolled": true
   },
   "outputs": [],
   "source": [
    "liga_data = get_past_feature(df=liga_data, feat_col='avg_goals_scored_since_season_start', team=True)"
   ]
  },
  {
   "cell_type": "code",
   "execution_count": null,
   "metadata": {},
   "outputs": [],
   "source": [
    "liga_data = get_past_feature(df=liga_data, feat_col='avg_goals_conceded_since_season_start', team=False)"
   ]
  },
  {
   "cell_type": "code",
   "execution_count": null,
   "metadata": {},
   "outputs": [],
   "source": [
    "liga_data = get_past_feature(df=liga_data, feat_col='goals_scored', team=True)"
   ]
  },
  {
   "cell_type": "code",
   "execution_count": null,
   "metadata": {},
   "outputs": [],
   "source": [
    "liga_data = get_past_feature(df=liga_data, feat_col='goals_conceded', team=False)"
   ]
  },
  {
   "cell_type": "code",
   "execution_count": null,
   "metadata": {},
   "outputs": [],
   "source": [
    "# ligue1_data.head(10)"
   ]
  },
  {
   "cell_type": "code",
   "execution_count": null,
   "metadata": {},
   "outputs": [],
   "source": [
    "# add 5 last perf as features"
   ]
  },
  {
   "cell_type": "markdown",
   "metadata": {},
   "source": [
    "# 1. Performance (rank, pts, goals scored, goal difference) evolution during the season based on the Final Ranking "
   ]
  },
  {
   "cell_type": "code",
   "execution_count": null,
   "metadata": {},
   "outputs": [],
   "source": [
    "#import plotly.graph_objects as go\n",
    "#import plotly.express as px"
   ]
  },
  {
   "cell_type": "code",
   "execution_count": null,
   "metadata": {},
   "outputs": [],
   "source": [
    "nb_teams = liga_data.team.nunique()\n",
    "nb_seasons = liga_data.season.nunique()"
   ]
  },
  {
   "cell_type": "code",
   "execution_count": null,
   "metadata": {},
   "outputs": [],
   "source": [
    "print(f\"\"\"{nb_teams} teams have played in Ligue-1 from season 2004-2005 to season 2018-2019,\n",
    "i.e over {nb_seasons} seasons \"\"\")"
   ]
  },
  {
   "cell_type": "code",
   "execution_count": null,
   "metadata": {
    "scrolled": true
   },
   "outputs": [],
   "source": [
    "participation_df = end_season[['team', 'final_rank']].groupby(by='team').agg('count').rename(\n",
    "    columns={\"final_rank\":\"nb_participation\"})\n",
    "participation_df.sort_values(by=\"nb_participation\", ascending=False)"
   ]
  },
  {
   "cell_type": "code",
   "execution_count": null,
   "metadata": {},
   "outputs": [],
   "source": [
    "print(\"{nb_all_seasons} teams played all {nb_seasons} seasons\".format(\n",
    "    nb_all_seasons=len(participation_df[participation_df.nb_participation==nb_seasons]),\n",
    "    nb_seasons=nb_seasons))"
   ]
  },
  {
   "cell_type": "code",
   "execution_count": null,
   "metadata": {},
   "outputs": [],
   "source": [
    "final_rank_perf_evolution = liga_data[\n",
    "    ['final_rank', 'leg', 'cum_pts', 'goals_scored', 'goals_conceded', 'cum_goal_diff', 'cum_goals_scored', 'rank']\n",
    "].groupby(by=['final_rank', 'leg']).aggregate({'rank': ['mean', 'std'],\n",
    "                                               'cum_pts': ['mean', 'std'],\n",
    "                                               'cum_goal_diff': ['mean', 'std'],\n",
    "                                               'cum_goals_scored': ['mean', 'std'],\n",
    "                                               'goals_scored': ['mean', 'std'],\n",
    "                                               'goals_conceded': ['mean', 'std'],\n",
    "                                              })"
   ]
  },
  {
   "cell_type": "code",
   "execution_count": null,
   "metadata": {},
   "outputs": [],
   "source": [
    "final_rank_perf_evolution.columns = ['avg_rank', 'std_rank',\n",
    "                                     'avg_cum_pts', 'std_cum_pts',\n",
    "                                     'avg_cum_goal_diff', 'std_cum_goal_diff',\n",
    "                                     'avg_cum_goals_scored', 'std_cum_goal_scored',\n",
    "                                    'avg_goals_scored', 'std_goals_scored',\n",
    "                                    'avg_goals_conceded', 'std_goals_conceded']"
   ]
  },
  {
   "cell_type": "code",
   "execution_count": null,
   "metadata": {},
   "outputs": [],
   "source": [
    "df=final_rank_perf_evolution.reset_index()"
   ]
  },
  {
   "cell_type": "code",
   "execution_count": null,
   "metadata": {},
   "outputs": [],
   "source": [
    "plotly_colors = '''\n",
    "        aliceblue, antiquewhite, aqua, aquamarine, azure,\n",
    "        beige, bisque, black, blanchedalmond, blue,\n",
    "        blueviolet, brown, burlywood, cadetblue,\n",
    "        chartreuse, chocolate, coral, cornflowerblue,\n",
    "        cornsilk, crimson, cyan, darkblue, darkcyan,\n",
    "        darkgoldenrod, darkgray, darkgrey, darkgreen,\n",
    "        darkkhaki, darkmagenta, darkolivegreen, darkorange,\n",
    "        darkorchid, darkred, darksalmon, darkseagreen,\n",
    "        darkslateblue, darkslategray, darkslategrey,\n",
    "        darkturquoise, darkviolet, deeppink, deepskyblue,\n",
    "        dimgray, dimgrey, dodgerblue, firebrick,\n",
    "        floralwhite, forestgreen, fuchsia, gainsboro,\n",
    "        ghostwhite, gold, goldenrod, gray, grey, green,\n",
    "        greenyellow, honeydew, hotpink, indianred, indigo,\n",
    "        ivory, khaki, lavender, lavenderblush, lawngreen,\n",
    "        lemonchiffon, lightblue, lightcoral, lightcyan,\n",
    "        lightgoldenrodyellow, lightgray, lightgrey,\n",
    "        lightgreen, lightpink, lightsalmon, lightseagreen,\n",
    "        lightskyblue, lightslategray, lightslategrey,\n",
    "        lightsteelblue, lightyellow, lime, limegreen,\n",
    "        linen, magenta, maroon, mediumaquamarine,\n",
    "        mediumblue, mediumorchid, mediumpurple,\n",
    "        mediumseagreen, mediumslateblue, mediumspringgreen,\n",
    "        mediumturquoise, mediumvioletred, midnightblue,\n",
    "        mintcream, mistyrose, moccasin, navajowhite, navy,\n",
    "        oldlace, olive, olivedrab, orange, orangered,\n",
    "        orchid, palegoldenrod, palegreen, paleturquoise,\n",
    "        palevioletred, papayawhip, peachpuff, peru, pink,\n",
    "        plum, powderblue, purple, red, rosybrown,\n",
    "        royalblue, saddlebrown, salmon, sandybrown,\n",
    "        seagreen, seashell, sienna, silver, skyblue,\n",
    "        slateblue, slategray, slategrey, snow, springgreen,\n",
    "        steelblue, tan, teal, thistle, tomato, turquoise,\n",
    "        violet, wheat, white, whitesmoke, yellow,\n",
    "        yellowgreen\n",
    "        '''"
   ]
  },
  {
   "cell_type": "code",
   "execution_count": null,
   "metadata": {},
   "outputs": [],
   "source": [
    "color_2_position = {1: \"royalblue\", \n",
    "                    2: \"cornflowerblue\",\n",
    "                    3: \"aqua\",\n",
    "                    4: \"chartreuse\",\n",
    "                    5: \"yellowgreen\",\n",
    "                    6: \"green\",\n",
    "                    7: \"teal\",\n",
    "                    8: \"purple\",\n",
    "                    9: \"mediumturquoise\",\n",
    "                    10: \"plum\",\n",
    "                    11: \"khaki\",\n",
    "                    12: \"goldenrod\",\n",
    "                    13: \"yellow\",\n",
    "                    14: \"chocolate\",\n",
    "                    15: \"lightpink\",\n",
    "                    16: \"hotpink\",\n",
    "                    17: \"lightsalmon\",\n",
    "                    18: \"orange\",\n",
    "                    19: \"orangered\",\n",
    "                    20: \"red\"\n",
    "                   }"
   ]
  },
  {
   "cell_type": "code",
   "execution_count": null,
   "metadata": {},
   "outputs": [],
   "source": [
    "plotly_colors_list = plotly_colors.split(',')\n",
    "plotly_colors_list=[l.replace('\\n','') for l in plotly_colors_list]\n",
    "plotly_colors_list=[l.replace(' ','') for l in plotly_colors_list]\n",
    "# plotly_colors_list"
   ]
  },
  {
   "cell_type": "code",
   "execution_count": null,
   "metadata": {},
   "outputs": [],
   "source": [
    "def color_name_to_rgba(name, fill=0.3):\n",
    "    \"\"\"name: CSS name\"\"\"\n",
    "    assert name in plotly_colors_list\n",
    "    \n",
    "    values = \", \".join([str(c) for c in name_to_rgb(name)]+[str(fill)])\n",
    "    \n",
    "    return f'rgba({values})'\n",
    "    "
   ]
  },
  {
   "cell_type": "code",
   "execution_count": null,
   "metadata": {},
   "outputs": [],
   "source": [
    "def plot_seaborn_kpi(data, kpi='cum_pts'):\n",
    "    admissible_kpis = {'rank', \n",
    "                       'cum_pts', \n",
    "                       'cum_goal_diff', \n",
    "                       'cum_goals_scored',\n",
    "                       'goals_conceded', \n",
    "                       'goals_scored'}\n",
    "    if kpi not in admissible_kpis:\n",
    "        raise Exception(f\"kpi {kpi} is not admissible. It must be part of the following set : {admissible_kpis}\")\n",
    "        \n",
    "    sns.relplot(x=\"leg\", \n",
    "                y=kpi, \n",
    "                sort=True, \n",
    "                markers=True, \n",
    "                kind=\"line\", \n",
    "                data=data, \n",
    "                hue='final_rank',\n",
    "                height=7\n",
    "               )"
   ]
  },
  {
   "cell_type": "code",
   "execution_count": null,
   "metadata": {},
   "outputs": [],
   "source": [
    "def plot_plotly_kpi(df, kpi='cum_pts', not_show_standard_deviation=True):\n",
    "    admissible_kpis = {'rank', \n",
    "                       'cum_pts', \n",
    "                       'cum_goal_diff', \n",
    "                       'cum_goals_scored',\n",
    "                       'goals_conceded', \n",
    "                       'goals_scored'\n",
    "                      }\n",
    "    \n",
    "    avg_col = f'avg_{kpi}'\n",
    "    std_col = f'std_{kpi}'\n",
    "    \n",
    "    if kpi not in admissible_kpis:\n",
    "        raise Exception(f\"\"\"\n",
    "        kpi {kpi} is not admissible. It must be part of the following set : {admissible_kpis}\n",
    "        \"\"\")\n",
    "    \n",
    "    if not_show_standard_deviation:\n",
    "        fig = px.line(data_frame=df, x=\"leg\", y=avg_col, color=\"final_rank\",\n",
    "              title=f\"Average {kpi} Evolution based on final ranking\",\n",
    "             )\n",
    "\n",
    "        fig.update_layout(\n",
    "            autosize=False,\n",
    "            width=800,\n",
    "            height=800)\n",
    "\n",
    "        fig.show()\n",
    "    else:\n",
    "        go_layers = []\n",
    "        for ranking in df.final_rank.unique()[::-1]:\n",
    "            dg = df[df.final_rank == ranking]\n",
    "            sublayer = [\n",
    "            go.Scatter(\n",
    "                name=str(ranking),\n",
    "                x=dg['leg'],\n",
    "                y=dg[avg_col],\n",
    "                mode='lines',\n",
    "                line=dict(color=color_2_position[ranking],\n",
    "                         width=2 if ranking not in [3, 18] else 5)\n",
    "                    ),\n",
    "\n",
    "            go.Scatter(\n",
    "                name=f'Upper Bound {ranking}',\n",
    "                x=dg['leg'],\n",
    "                y=dg[avg_col]+dg[std_col],\n",
    "                mode='lines',\n",
    "                marker=dict(color=\"#444\"),\n",
    "                line=dict(width=0),\n",
    "                showlegend=False\n",
    "                    ),\n",
    "\n",
    "            go.Scatter(\n",
    "                name=f'Lower Bound {ranking}',\n",
    "                x=dg['leg'],\n",
    "                y=dg[avg_col]-dg[std_col],\n",
    "                marker=dict(color=\"#444\"),\n",
    "                line=dict(width=0),\n",
    "                mode='lines',\n",
    "                fillcolor=color_name_to_rgba(name=color_2_position[ranking], fill=0.1),\n",
    "                fill='tonexty',\n",
    "                showlegend=False,\n",
    "            )\n",
    "            ]\n",
    "            go_layers+=sublayer\n",
    "\n",
    "\n",
    "\n",
    "        layout = go.Layout(\n",
    "            autosize=True, #False,\n",
    "            width=800,\n",
    "            height=800,\n",
    "\n",
    "            xaxis= go.layout.XAxis(linecolor = 'black',\n",
    "                                  linewidth = 1,\n",
    "                                  mirror = True),\n",
    "\n",
    "            yaxis= go.layout.YAxis(linecolor = 'black',\n",
    "                                  linewidth = 1,\n",
    "                                  mirror = True),\n",
    "\n",
    "            margin=go.layout.Margin(\n",
    "                l=50,\n",
    "                r=50,\n",
    "                b=100,\n",
    "                t=100,\n",
    "                pad = 4\n",
    "            )\n",
    "        )\n",
    "\n",
    "        fig = go.Figure(data=go_layers, layout=layout)\n",
    "\n",
    "        fig.update_layout(\n",
    "            yaxis_title='Number of points',\n",
    "            title=f\"{kpi} Evolution according to final ranking\",\n",
    "            hovermode=\"x\"\n",
    "        )\n",
    "\n",
    "        #fig.update_layout(\n",
    "        #    autosize=False,\n",
    "        #    width=800,\n",
    "        #    height=800)\n",
    "\n",
    "        fig.show()"
   ]
  },
  {
   "cell_type": "code",
   "execution_count": null,
   "metadata": {},
   "outputs": [],
   "source": [
    "# https://community.plotly.com/t/different-colors-for-bars-in-barchart-by-their-value/6527/7\n",
    "# https://plotly.com/python/continuous-error-bars/\n"
   ]
  },
  {
   "cell_type": "markdown",
   "metadata": {},
   "source": [
    "## Points"
   ]
  },
  {
   "cell_type": "code",
   "execution_count": null,
   "metadata": {},
   "outputs": [],
   "source": [
    "plot_seaborn_kpi(data=liga_data, kpi='cum_pts')"
   ]
  },
  {
   "cell_type": "code",
   "execution_count": null,
   "metadata": {},
   "outputs": [],
   "source": [
    "# plot_plotly_kpi(df=df, kpi='cum_pts', not_show_standard_deviation=True)"
   ]
  },
  {
   "cell_type": "markdown",
   "metadata": {},
   "source": [
    "## Rank"
   ]
  },
  {
   "cell_type": "code",
   "execution_count": null,
   "metadata": {},
   "outputs": [],
   "source": [
    "plot_seaborn_kpi(data=liga_data, kpi='rank')"
   ]
  },
  {
   "cell_type": "code",
   "execution_count": null,
   "metadata": {},
   "outputs": [],
   "source": [
    "# plot_plotly_kpi(df=df, kpi='rank', not_show_standard_deviation=True)"
   ]
  },
  {
   "cell_type": "code",
   "execution_count": null,
   "metadata": {},
   "outputs": [],
   "source": [
    "# https://plotly.com/python/sankey-diagram/"
   ]
  },
  {
   "cell_type": "markdown",
   "metadata": {},
   "source": [
    "#### Sankey Approach"
   ]
  },
  {
   "cell_type": "code",
   "execution_count": null,
   "metadata": {},
   "outputs": [],
   "source": [
    "sankey_df = liga_data[['season', 'team', 'leg', 'rank']].rename(columns={\"leg\": \"source_leg\", \"rank\": \"source_rank\"})\n",
    "sankey_df_2 = liga_data[['season', 'team', 'leg', 'rank']].rename(columns={\"leg\": \"target_leg\", \"rank\": \"target_rank\"})"
   ]
  },
  {
   "cell_type": "code",
   "execution_count": null,
   "metadata": {},
   "outputs": [],
   "source": [
    "sankey_df_2['source_leg'] = sankey_df_2['target_leg'] - 1"
   ]
  },
  {
   "cell_type": "code",
   "execution_count": null,
   "metadata": {},
   "outputs": [],
   "source": [
    "# sankey_df_2"
   ]
  },
  {
   "cell_type": "code",
   "execution_count": null,
   "metadata": {},
   "outputs": [],
   "source": [
    "sankey_df_3 = sankey_df.merge(sankey_df_2, on=['season', 'source_leg', 'team'], how='inner')"
   ]
  },
  {
   "cell_type": "code",
   "execution_count": null,
   "metadata": {},
   "outputs": [],
   "source": [
    "# sankey_df_3.head()"
   ]
  },
  {
   "cell_type": "code",
   "execution_count": null,
   "metadata": {},
   "outputs": [],
   "source": [
    "cnt_df = sankey_df_3.groupby(\n",
    "    by=['source_leg','source_rank', 'target_leg', 'target_rank'])['team'].count().reset_index()\n",
    "\n",
    "cnt_df.rename(columns={\"team\" : 'cnt'}, inplace=True) "
   ]
  },
  {
   "cell_type": "code",
   "execution_count": null,
   "metadata": {},
   "outputs": [],
   "source": [
    "cnt_df.loc[:,'source_node'] = cnt_df[['source_leg', 'source_rank']].apply(lambda r : 'leg_{}_rank_{}'.format(\n",
    "    r[0], r[1]), axis=1)"
   ]
  },
  {
   "cell_type": "code",
   "execution_count": null,
   "metadata": {},
   "outputs": [],
   "source": [
    "cnt_df.loc[:,'target_node'] = cnt_df[['target_leg', 'target_rank']].apply(lambda r : 'leg_{}_rank_{}'.format(\n",
    "    r[0], r[1]), axis=1)"
   ]
  },
  {
   "cell_type": "code",
   "execution_count": null,
   "metadata": {},
   "outputs": [],
   "source": [
    "# cnt_df"
   ]
  },
  {
   "cell_type": "code",
   "execution_count": null,
   "metadata": {},
   "outputs": [],
   "source": [
    "node_2_key = {node :i for i, node in enumerate(\n",
    "    ['leg_{}_rank_{}'.format(leg, rnk) for rnk in range(1,21) for leg in range(1,39)])}"
   ]
  },
  {
   "cell_type": "code",
   "execution_count": null,
   "metadata": {},
   "outputs": [],
   "source": [
    "# node_2_key"
   ]
  },
  {
   "cell_type": "code",
   "execution_count": null,
   "metadata": {
    "scrolled": true
   },
   "outputs": [],
   "source": [
    "# data = json.loads(response.read())\n",
    "\n",
    "# override gray link colors with 'source' colors\n",
    "# opacity = 0.4\n",
    "# change 'magenta' to its 'rgba' value to add opacity\n",
    "#data['data'][0]['node']['color'] = ['rgba(255,0,255, 0.8)' if color == \"magenta\" else color for color in data['data'][0]['node']['color']]\n",
    "#data['data'][0]['link']['color'] = [data['data'][0]['node']['color'][src].replace(\"0.8\", str(opacity))\n",
    "#                                    for src in data['data'][0]['link']['source']]\n",
    "\n",
    "def show_sankey(sankey_data, start_leg=1, end_leg=38):\n",
    "    \n",
    "    sankey_data = sankey_data[(sankey_data.source_leg >= start_leg)&(sankey_data.source_leg<end_leg)]\n",
    "    node_2_key = {node :i for i, node in enumerate(\n",
    "        ['leg_{}_rank_{}'.format(leg, rnk) for rnk in range(1,21) for leg in range(start_leg, end_leg+1)])}\n",
    "    \n",
    "    go_layers = [go.Sankey(\n",
    "        valueformat = \".0f\",\n",
    "        # valuesuffix = \"TWh\",\n",
    "        # Define nodes\n",
    "        node = dict(\n",
    "           # x = [.1 + .03*x for x in range(end_leg - start_leg + 1)],\n",
    "           # y = [.8 - y*.03 for y in range(1,21)],\n",
    "          pad = 7,\n",
    "          thickness = 5,\n",
    "          line = dict(color = \"black\", width = 0.5),\n",
    "          label =  ['leg_{}_rank_{}'.format(leg, rnk) for rnk in range(1,21) for leg in range(start_leg, end_leg+1)],\n",
    "          color =  [color_name_to_rgba(name=color_2_position[rnk], fill=0.8) \n",
    "                    for rnk in range(1,21) for leg in range(start_leg, end_leg+1)]\n",
    "        ),\n",
    "        # Add links\n",
    "        link = dict(\n",
    "          source = [node_2_key[source_node] for source_node in sankey_data['source_node'].values],\n",
    "          target = [node_2_key[target_node] for target_node in sankey_data['target_node'].values],\n",
    "          value =  sankey_data['cnt'].values,\n",
    "          # label =  data['data'][0]['link']['label'],\n",
    "          color =  [color_name_to_rgba(name=color_2_position[rnk], fill=0.4) \n",
    "                    for rnk in sankey_data.source_rank.values]\n",
    "    ))]\n",
    "\n",
    "\n",
    "    layout = go.Layout(\n",
    "                autosize=True, #False,\n",
    "                width=1200,\n",
    "                height=1200,\n",
    "\n",
    "                xaxis= go.layout.XAxis(linecolor = 'black',\n",
    "                                      linewidth = 1,\n",
    "                                      mirror = True),\n",
    "\n",
    "                yaxis= go.layout.YAxis(linecolor = 'black',\n",
    "                                      linewidth = 1,\n",
    "                                      mirror = True),\n",
    "\n",
    "                margin=go.layout.Margin(\n",
    "                    l=50,\n",
    "                    r=50,\n",
    "                    b=100,\n",
    "                    t=100,\n",
    "                    pad = 4\n",
    "                )\n",
    "            )\n",
    "\n",
    "\n",
    "    sankey_fig = go.Figure(data=go_layers, layout=layout)\n",
    "    sankey_fig.update_layout(title_text=\"Rank evolution\",\n",
    "                      font_size=10)\n",
    "    sankey_fig.show()"
   ]
  },
  {
   "cell_type": "code",
   "execution_count": null,
   "metadata": {
    "scrolled": true
   },
   "outputs": [],
   "source": [
    "show_sankey(sankey_data=cnt_df, start_leg=26, end_leg=38)"
   ]
  },
  {
   "cell_type": "markdown",
   "metadata": {},
   "source": [
    "## Comparison with average point evolution "
   ]
  },
  {
   "cell_type": "code",
   "execution_count": null,
   "metadata": {},
   "outputs": [],
   "source": [
    "liga_data.team.unique()"
   ]
  },
  {
   "cell_type": "code",
   "execution_count": null,
   "metadata": {},
   "outputs": [],
   "source": []
  },
  {
   "cell_type": "code",
   "execution_count": null,
   "metadata": {},
   "outputs": [],
   "source": [
    "def compare_pts_evol_with_avg_evolution(data, team, season='2018-2019', until_leg=38, compare_with=None):\n",
    "    \"\"\"\n",
    "    :param data: pd.DataFrame: data containing the league performance\n",
    "    :param team: str: name of the team we want to analyze\n",
    "    :param season: str: season we're interested in\n",
    "    :param until_leg: int: plot team's pts evolution from legs 1 to until leg included\n",
    "    :param compare_with: str: name of the team whose average pts evolution is computed and which is used for \n",
    "    comparison. That Team MUST have played at least 5 seasons\n",
    "    \"\"\"\n",
    "    team_data = deepcopy(data[(data.team == team) & (data.season==season) & (data.leg <= until_leg)])\n",
    "    comparator_data = deepcopy(data[data.team==compare_with])\n",
    "    \n",
    "    nb_season = comparator_data.season.nunique()\n",
    "    if nb_season < 4 or len(team_data)==0:\n",
    "        raise ValueError(f\"\"\"{team} has not played season {season} or {comparator_data} has played at most \n",
    "                         4 games. Please review your inputs\"\"\")\n",
    "        \n",
    "    avg_comparator_data = comparator_data[['leg', 'cum_pts']].groupby(\n",
    "        by=['leg']).mean().reset_index().rename(columns={'cum_pts':'avg_cum_pts'})\n",
    "    \n",
    "    go_layers= [\n",
    "    go.Scatter(name=f\"{compare_with} averaged\",\n",
    "               x=avg_comparator_data['leg'],\n",
    "               y=avg_comparator_data['avg_cum_pts'],\n",
    "               mode='lines',\n",
    "               line=dict(color=\"red\",\n",
    "                        width=5)\n",
    "                   ),\n",
    "     go.Scatter(name=team,\n",
    "                x=team_data['leg'],\n",
    "                y=team_data['cum_pts'],\n",
    "                mode='lines',\n",
    "                line=dict(color=\"royalblue\",\n",
    "                          width=2)\n",
    "                 )\n",
    "    ]\n",
    "    \n",
    "    layout = go.Layout(\n",
    "            autosize=True, #False,\n",
    "            width=800,\n",
    "            height=800,\n",
    "\n",
    "            xaxis= go.layout.XAxis(linecolor = 'black',\n",
    "                                  linewidth = 1,\n",
    "                                  mirror = True),\n",
    "\n",
    "            yaxis= go.layout.YAxis(linecolor = 'black',\n",
    "                                  linewidth = 1,\n",
    "                                  mirror = True),\n",
    "\n",
    "            margin=go.layout.Margin(\n",
    "                l=50,\n",
    "                r=50,\n",
    "                b=100,\n",
    "                t=100,\n",
    "                pad = 4\n",
    "            )\n",
    "        )\n",
    "\n",
    "    fig = go.Figure(data=go_layers, layout=layout)\n",
    "\n",
    "    fig.update_layout(\n",
    "        yaxis_title=\"number of points\",\n",
    "        title=f\"{team}'s point evolution during season {season} wrt to {compare_with} average pts evolution\",\n",
    "        hovermode=\"x\"\n",
    "    )\n",
    "\n",
    "    #fig.update_layout(\n",
    "    #    autosize=False,\n",
    "    #    width=800,\n",
    "    #    height=800)\n",
    "\n",
    "    fig.show() \n",
    "    "
   ]
  },
  {
   "cell_type": "code",
   "execution_count": null,
   "metadata": {
    "scrolled": false
   },
   "outputs": [],
   "source": [
    "compare_pts_evol_with_avg_evolution(data=liga_data, \n",
    "                                    team= 'Real Madrid', # 'FC Barcelone', #'Lyon', \n",
    "                                    season='2008-2009', \n",
    "                                    until_leg=38, \n",
    "                                    compare_with='Real Madrid')"
   ]
  },
  {
   "cell_type": "code",
   "execution_count": null,
   "metadata": {},
   "outputs": [],
   "source": [
    "def compare_pts_evol_time(data, team, until_leg=38):\n",
    "    \"\"\"\n",
    "    :param data: pd.DataFrame: data containing the league performance\n",
    "    :param team: str: name of the team we want to analyze\n",
    "    :param until_leg: int: plot team's pts evolution from legs 1 to until leg included\n",
    "    comparison. That Team MUST have played at least 5 seasons\n",
    "    \"\"\"\n",
    "    team_data = deepcopy(data[(data.team == team) & (data.leg <= until_leg)])\n",
    "    comparator_data = deepcopy(data[data.team==team])\n",
    "    \n",
    "    nb_season = comparator_data.season.nunique()\n",
    "    if nb_season < 4 or len(team_data)==0:\n",
    "        raise ValueError(f\"\"\"{team} has not played season {season} or has not played at least \n",
    "                         5 games. Please change team\"\"\")\n",
    "        \n",
    "    avg_comparator_data = comparator_data[['leg', 'cum_pts']].groupby(\n",
    "        by=['leg']).mean().reset_index().rename(columns={'cum_pts':'avg_cum_pts'})\n",
    "    \n",
    "    go_layers= [\n",
    "    go.Scatter(name=\"averaged point evolution\",\n",
    "               x=avg_comparator_data['leg'],\n",
    "               y=avg_comparator_data['avg_cum_pts'],\n",
    "               mode='lines',\n",
    "               line=dict(color=\"red\",\n",
    "                        width=5)\n",
    "                   )]\n",
    "    i = 0\n",
    "    for season_start in range(2004,2019):\n",
    "        i+=1\n",
    "        season = f'{season_start}-{season_start+1}'\n",
    "        sublayer = [\n",
    "         go.Scatter(name=season,\n",
    "                    x=team_data[team_data.season==season]['leg'],\n",
    "                    y=team_data[team_data.season==season]['cum_pts'],\n",
    "                    mode='lines',\n",
    "                    line=dict(color=color_2_position[i],\n",
    "                              width=2)\n",
    "                     )\n",
    "        ]\n",
    "        \n",
    "        go_layers+=sublayer\n",
    "    \n",
    "    layout = go.Layout(\n",
    "            autosize=True, #False,\n",
    "            width=800,\n",
    "            height=800,\n",
    "\n",
    "            xaxis= go.layout.XAxis(linecolor = 'black',\n",
    "                                  linewidth = 1,\n",
    "                                  mirror = True),\n",
    "\n",
    "            yaxis= go.layout.YAxis(linecolor = 'black',\n",
    "                                  linewidth = 1,\n",
    "                                  mirror = True),\n",
    "\n",
    "            margin=go.layout.Margin(\n",
    "                l=50,\n",
    "                r=50,\n",
    "                b=100,\n",
    "                t=100,\n",
    "                pad = 4\n",
    "            )\n",
    "        )\n",
    "\n",
    "    fig = go.Figure(data=go_layers, layout=layout)\n",
    "\n",
    "    fig.update_layout(\n",
    "        yaxis_title=\"number of points\",\n",
    "        title=f\"{team}'s point evolution over its {nb_season} seasons wrt to its average pts evolution\",\n",
    "        hovermode=\"x\"\n",
    "    )\n",
    "\n",
    "    #fig.update_layout(\n",
    "    #    autosize=False,\n",
    "    #    width=800,\n",
    "    #    height=800)\n",
    "\n",
    "    fig.show() \n",
    "    \n",
    "    "
   ]
  },
  {
   "cell_type": "code",
   "execution_count": null,
   "metadata": {
    "scrolled": false
   },
   "outputs": [],
   "source": [
    "compare_pts_evol_time(data=liga_data,\n",
    "                     team='Real Madrid', #'Paris-SG',\n",
    "                     until_leg=38)\n"
   ]
  },
  {
   "cell_type": "markdown",
   "metadata": {},
   "source": [
    "## Cumulative goals scored"
   ]
  },
  {
   "cell_type": "code",
   "execution_count": null,
   "metadata": {},
   "outputs": [],
   "source": [
    "plot_seaborn_kpi(data=liga_data, kpi='cum_goals_scored')"
   ]
  },
  {
   "cell_type": "code",
   "execution_count": null,
   "metadata": {},
   "outputs": [],
   "source": [
    "plot_plotly_kpi(df=df, kpi='cum_goals_scored', not_show_standard_deviation=True)"
   ]
  },
  {
   "cell_type": "markdown",
   "metadata": {},
   "source": [
    "## Cumulative goal difference "
   ]
  },
  {
   "cell_type": "code",
   "execution_count": null,
   "metadata": {},
   "outputs": [],
   "source": [
    "plot_seaborn_kpi(data=liga_data, kpi='cum_goal_diff')"
   ]
  },
  {
   "cell_type": "code",
   "execution_count": null,
   "metadata": {},
   "outputs": [],
   "source": [
    "plot_plotly_kpi(df=df, kpi='cum_goal_diff', not_show_standard_deviation=True)"
   ]
  },
  {
   "cell_type": "markdown",
   "metadata": {},
   "source": [
    "## Goal scored"
   ]
  },
  {
   "cell_type": "code",
   "execution_count": null,
   "metadata": {},
   "outputs": [],
   "source": [
    "plot_seaborn_kpi(data=liga_data, kpi='goals_scored')"
   ]
  },
  {
   "cell_type": "code",
   "execution_count": null,
   "metadata": {},
   "outputs": [],
   "source": [
    "plot_plotly_kpi(df=df, kpi='goals_scored', not_show_standard_deviation=True)"
   ]
  },
  {
   "cell_type": "markdown",
   "metadata": {},
   "source": [
    "## Goal conceded"
   ]
  },
  {
   "cell_type": "code",
   "execution_count": null,
   "metadata": {
    "scrolled": true
   },
   "outputs": [],
   "source": [
    "plot_seaborn_kpi(data=liga_data, kpi='goals_conceded')"
   ]
  },
  {
   "cell_type": "code",
   "execution_count": null,
   "metadata": {
    "scrolled": false
   },
   "outputs": [],
   "source": [
    "plot_plotly_kpi(df=df, kpi='goals_conceded', not_show_standard_deviation=True)"
   ]
  },
  {
   "cell_type": "code",
   "execution_count": null,
   "metadata": {},
   "outputs": [],
   "source": []
  },
  {
   "cell_type": "markdown",
   "metadata": {},
   "source": [
    "## Scatter plot : \n",
    "#### x : nbr goals scored,\n",
    "#### y: nbr scored conceded, \n",
    "#### color : final rank or current rank"
   ]
  },
  {
   "cell_type": "code",
   "execution_count": null,
   "metadata": {},
   "outputs": [],
   "source": []
  },
  {
   "cell_type": "code",
   "execution_count": null,
   "metadata": {},
   "outputs": [],
   "source": [
    "def plot_plotly_scatter(df, color, season=None):\n",
    "    if color not in ['rank', 'final_rank']:\n",
    "        raise ValueError(f\"color MUST be rank or final_rank. Got {color}\")\n",
    "    \n",
    "    if season:\n",
    "        df=df[df.season == season]\n",
    "    go_layers = []\n",
    "    for ranking in sorted(df.final_rank.unique(), reverse=False):\n",
    "        dg = deepcopy(df[df[color] == ranking])\n",
    "        \n",
    "        dg.loc[:, 'goals_scored'] = dg['goals_scored'].apply(lambda x: x+random.uniform(0, .7))\n",
    "        dg.loc[:, 'goals_conceded'] = dg['goals_conceded'].apply(lambda x: x+random.uniform(0, .7))\n",
    "        \n",
    "        sublayer = [\n",
    "        go.Scatter(\n",
    "            name=str(ranking),\n",
    "            x=dg['goals_scored'],\n",
    "            y=dg['goals_conceded'],\n",
    "            mode='markers',\n",
    "            line=dict(color=color_2_position[ranking],\n",
    "                     width=2 if ranking not in [3, 18] else 5)\n",
    "                )\n",
    "        ]\n",
    "        go_layers+=sublayer\n",
    "\n",
    "\n",
    "\n",
    "    layout = go.Layout(\n",
    "        autosize=True, #False,\n",
    "        width=800,\n",
    "        height=800,\n",
    "\n",
    "        xaxis= go.layout.XAxis(linecolor = 'black',\n",
    "                              linewidth = 1,\n",
    "                              mirror = True),\n",
    "\n",
    "        yaxis= go.layout.YAxis(linecolor = 'black',\n",
    "                              linewidth = 1,\n",
    "                              mirror = True),\n",
    "\n",
    "        margin=go.layout.Margin(\n",
    "            l=50,\n",
    "            r=50,\n",
    "            b=100,\n",
    "            t=100,\n",
    "            pad = 4\n",
    "        )\n",
    "    )\n",
    "\n",
    "    fig = go.Figure(data=go_layers, layout=layout)\n",
    "\n",
    "    fig.update_layout(\n",
    "        yaxis_title='Goals conceded',\n",
    "        xaxis_title='Goals scored',\n",
    "        title=f\"Scatterplot goals scored/conceded. Color is related to {color} column\",\n",
    "        hovermode=\"x\"\n",
    "    )\n",
    "\n",
    "    #fig.update_layout(\n",
    "    #    autosize=False,\n",
    "    #    width=800,\n",
    "    #    height=800)\n",
    "\n",
    "    fig.show()"
   ]
  },
  {
   "cell_type": "code",
   "execution_count": null,
   "metadata": {
    "scrolled": false
   },
   "outputs": [],
   "source": [
    "plot_plotly_scatter(df=liga_data, color='rank', season='2018-2019')"
   ]
  },
  {
   "cell_type": "markdown",
   "metadata": {},
   "source": [
    "## Histogram"
   ]
  },
  {
   "cell_type": "code",
   "execution_count": null,
   "metadata": {},
   "outputs": [],
   "source": [
    "def plot_plotly_histogram(df, x, color, season=None):\n",
    "    if color not in ['rank', 'final_rank', 'previous_team_rank', 'previous_opponent_rank']:\n",
    "        raise ValueError(f\"color MUST be rank or final_rank. Got {color}\")\n",
    "        \n",
    "    if x not in ['goals_scored', 'goals_conceded']:\n",
    "        raise ValueError(f\"x MUST be goals_scored or goals_conceded. Got {x}\")\n",
    "        \n",
    "    if season:\n",
    "        df=df[df.season == season]\n",
    "        \n",
    "    go_layers = []\n",
    "    for ranking in sorted(df.final_rank.unique(), reverse=False):\n",
    "        dg = deepcopy(df[df[color] == ranking])\n",
    "        \n",
    "        \n",
    "        sublayer = [\n",
    "        go.Histogram(\n",
    "            name=str(ranking),\n",
    "            x=dg[x].values,\n",
    "            marker=dict(line=dict(color=color_2_position[ranking],\n",
    "                     width=2 if ranking not in [3, 18] else 5)\n",
    "                ))\n",
    "        ]\n",
    "        go_layers+=sublayer\n",
    "\n",
    "\n",
    "\n",
    "    layout = go.Layout(\n",
    "        autosize=True, #False,\n",
    "        width=800,\n",
    "        height=800,\n",
    "\n",
    "        xaxis= go.layout.XAxis(linecolor = 'black',\n",
    "                              linewidth = 1,\n",
    "                              mirror = True),\n",
    "\n",
    "        yaxis= go.layout.YAxis(linecolor = 'black',\n",
    "                              linewidth = 1,\n",
    "                              mirror = True),\n",
    "\n",
    "        margin=go.layout.Margin(\n",
    "            l=50,\n",
    "            r=50,\n",
    "            b=100,\n",
    "            t=100,\n",
    "            pad = 4\n",
    "        )\n",
    "    )\n",
    "\n",
    "    fig = go.Figure(data=go_layers, layout=layout)\n",
    "    \n",
    "    disp_season = season if season else 'all'\n",
    "    \n",
    "    fig.update_layout(\n",
    "        yaxis_title='nb. times,\n",
    "        xaxis_title='Goals scored',\n",
    "        title=f\"Histogram of {x} for {disp_season}. Color is related to {color} column\",\n",
    "        hovermode=\"x\"\n",
    "    )\n",
    "    \n",
    "    # Overlay both histograms\n",
    "    fig.update_layout(barmode='overlay')\n",
    "    # Reduce opacity to see both histograms\n",
    "    fig.update_traces(opacity=0.5)\n",
    "\n",
    "    #fig.update_layout(\n",
    "    #    autosize=False,\n",
    "    #    width=800,\n",
    "    #    height=800)\n",
    "\n",
    "    fig.show()"
   ]
  },
  {
   "cell_type": "code",
   "execution_count": null,
   "metadata": {},
   "outputs": [],
   "source": [
    "#tmp_df = deepcopy(ligue1_data[['season', 'leg', 'team', 'rank']])\n",
    "#tmp_df.loc[:,'next_leg'] = tmp_df['leg'] +1"
   ]
  },
  {
   "cell_type": "code",
   "execution_count": null,
   "metadata": {},
   "outputs": [],
   "source": [
    "#tmp_df.rename(columns={'leg': 'previous_leg', 'next_leg':'leg', 'rank':'previous_rank'}, inplace=True)"
   ]
  },
  {
   "cell_type": "code",
   "execution_count": null,
   "metadata": {},
   "outputs": [],
   "source": [
    "#tmp_df"
   ]
  },
  {
   "cell_type": "code",
   "execution_count": null,
   "metadata": {
    "scrolled": true
   },
   "outputs": [],
   "source": [
    "#ligue1_data_dev = ligue1_data.merge(tmp_df, how='left', on=['leg', 'season', 'team'])"
   ]
  },
  {
   "cell_type": "code",
   "execution_count": null,
   "metadata": {},
   "outputs": [],
   "source": [
    "# ligue1_data_dev[ligue1_data_dev.leg==1]"
   ]
  },
  {
   "cell_type": "code",
   "execution_count": null,
   "metadata": {
    "scrolled": true
   },
   "outputs": [],
   "source": [
    "# ligue1_data"
   ]
  },
  {
   "cell_type": "code",
   "execution_count": null,
   "metadata": {
    "scrolled": false
   },
   "outputs": [],
   "source": [
    "plot_plotly_histogram(df=liga_data, x='goals_scored', color='previous_team_rank', season='2018-2019')"
   ]
  },
  {
   "cell_type": "code",
   "execution_count": null,
   "metadata": {},
   "outputs": [],
   "source": [
    "def hist_aggregator(df, column_to_describe, aggreg_column='play', bin_step=None):\n",
    "    if bin_step is not None:\n",
    "        df[f'{aggreg_column}_binned'] = df[aggreg_column].apply(lambda x : (x//bin_step)*bin_step)\n",
    "        aggreg_column = f'{aggreg_column}_binned'\n",
    "        \n",
    "    df_agg = df[[aggreg_column, column_to_describe, 'country']].groupby(\n",
    "        by=[aggreg_column, column_to_describe]).count().reset_index()\n",
    "    df_agg.rename(columns={'country': 'cnt'}, inplace=True)\n",
    "    return df_agg"
   ]
  },
  {
   "cell_type": "code",
   "execution_count": null,
   "metadata": {},
   "outputs": [],
   "source": [
    "def mean_aggregator(df, column_to_describe, aggreg_column='play', bin_step=None):\n",
    "    if bin_step is not None:\n",
    "        df[f'{aggreg_column}_binned'] = df[aggreg_column].apply(lambda x : (x//bin_step)*bin_step)\n",
    "        aggreg_column = f'{aggreg_column}_binned'\n",
    "        \n",
    "    df_agg = df[[aggreg_column, column_to_describe]].groupby(\n",
    "        by=[aggreg_column]).mean().reset_index()\n",
    "    df_agg.rename(columns={column_to_describe: f'avg_{column_to_describe}'}, inplace=True)\n",
    "    return df_agg"
   ]
  },
  {
   "cell_type": "code",
   "execution_count": null,
   "metadata": {},
   "outputs": [],
   "source": [
    "hist_aggregator(df=liga_data, column_to_describe='goals_scored', aggreg_column='previous_team_rank')"
   ]
  },
  {
   "cell_type": "code",
   "execution_count": null,
   "metadata": {},
   "outputs": [],
   "source": [
    "def draw_pie_chart(df, values, names, hover_data, title):  \n",
    "    if isinstance(names, list):\n",
    "        name = '_'.join(names)\n",
    "        df[name] = df[names].apply(lambda r: '_'.join([str(_) for _ in r]), axis=1)\n",
    "    else:\n",
    "        name = names\n",
    "    # hover_data = [hover_data] if isinstance(hover_data, str) else hover_data\n",
    "    #fig = px.pie(df, values=values, names=name,\n",
    "    #             title=title,\n",
    "                 # hover_data=[hover_data]\n",
    "                 #, labels={'lifeExp':'life expectancy'}\n",
    "     #           )\n",
    "    \n",
    "    fig = go.Figure(data=[go.Pie(labels=df[name], values=df[values])])\n",
    "    fig.update_traces(title_text=title, textposition='inside', textinfo='percent+label')\n",
    "    fig.show()"
   ]
  },
  {
   "cell_type": "code",
   "execution_count": null,
   "metadata": {},
   "outputs": [],
   "source": [
    "def draw_sunburst(df, path, values, color=None):\n",
    "    fig = px.sunburst(df, path=path, values=values, color=color)\n",
    "    # fig.update_traces(textposition='inside', textinfo='percent+label')\n",
    "    fig.show()"
   ]
  },
  {
   "cell_type": "markdown",
   "metadata": {},
   "source": [
    "# Home/Away advantage : pts won; goal scored; goal conceded"
   ]
  },
  {
   "cell_type": "markdown",
   "metadata": {},
   "source": [
    "# TO DO : Pie Charts"
   ]
  },
  {
   "cell_type": "code",
   "execution_count": null,
   "metadata": {
    "scrolled": true
   },
   "outputs": [],
   "source": [
    "home_away_goals_scored = hist_aggregator(df=liga_data, \n",
    "                                         column_to_describe='goals_scored',\n",
    "                                         aggreg_column='play')\n",
    "home_away_goals_scored"
   ]
  },
  {
   "cell_type": "code",
   "execution_count": null,
   "metadata": {
    "scrolled": false
   },
   "outputs": [],
   "source": [
    "draw_pie_chart(df=home_away_goals_scored, values='cnt', \n",
    "               names=['play','goals_scored'],\n",
    "               title='nb. of goals when playing home/away', \n",
    "               hover_data=['play','goals_scored'])"
   ]
  },
  {
   "cell_type": "code",
   "execution_count": null,
   "metadata": {},
   "outputs": [],
   "source": [
    "draw_sunburst(df=home_away_goals_scored,\n",
    "             path=['play','goals_scored'],\n",
    "             values='cnt')"
   ]
  },
  {
   "cell_type": "code",
   "execution_count": null,
   "metadata": {},
   "outputs": [],
   "source": [
    "draw_pie_chart(df=home_away_goals_scored, values='cnt', \n",
    "               names='goals_scored',\n",
    "               title='nb. of goals', \n",
    "               hover_data=['play','goals_scored'])"
   ]
  },
  {
   "cell_type": "code",
   "execution_count": null,
   "metadata": {},
   "outputs": [],
   "source": [
    "home_pts = hist_aggregator(df=liga_data[liga_data.play=='Home'], \n",
    "                           column_to_describe='nb_points', \n",
    "                           aggreg_column='play')\n",
    "home_pts"
   ]
  },
  {
   "cell_type": "code",
   "execution_count": null,
   "metadata": {
    "scrolled": true
   },
   "outputs": [],
   "source": [
    "draw_pie_chart(df=home_pts, values='cnt', names='nb_points', title='Home performance', hover_data='nb_points')"
   ]
  },
  {
   "cell_type": "markdown",
   "metadata": {},
   "source": [
    "## Leg on goals"
   ]
  },
  {
   "cell_type": "code",
   "execution_count": null,
   "metadata": {},
   "outputs": [],
   "source": [
    "leg_on_perf_at_home = hist_aggregator(df=liga_data[liga_data.play=='Home'],\n",
    "                                      column_to_describe='nb_points', \n",
    "                                      aggreg_column='leg')\n",
    "leg_on_perf_at_home"
   ]
  },
  {
   "cell_type": "code",
   "execution_count": null,
   "metadata": {},
   "outputs": [],
   "source": [
    "draw_pie_chart(df=deepcopy(leg_on_perf_at_home), values='cnt', \n",
    "               names=['leg'],\n",
    "               title='Legs on ties when playing home', \n",
    "               hover_data=['leg',])"
   ]
  },
  {
   "cell_type": "code",
   "execution_count": null,
   "metadata": {},
   "outputs": [],
   "source": [
    "draw_sunburst(df=leg_on_perf_at_home,\n",
    "             path=['leg', 'nb_points'],\n",
    "             values='cnt')"
   ]
  },
  {
   "cell_type": "code",
   "execution_count": null,
   "metadata": {},
   "outputs": [],
   "source": [
    "leg_goals = hist_aggregator(df=liga_data, column_to_describe='goals_scored', aggreg_column='leg')\n",
    "leg_goals"
   ]
  },
  {
   "cell_type": "code",
   "execution_count": null,
   "metadata": {
    "scrolled": true
   },
   "outputs": [],
   "source": [
    "draw_sunburst(df=leg_goals,\n",
    "             path=['leg', 'goals_scored'],\n",
    "             values='cnt')"
   ]
  },
  {
   "cell_type": "markdown",
   "metadata": {},
   "source": [
    "## Average all ongoing season goals scored / opponent avg goals conceded on number goals scored  --> Scatterplot with jitter + bins the avg by steps of 0.1 goals"
   ]
  },
  {
   "cell_type": "code",
   "execution_count": null,
   "metadata": {},
   "outputs": [],
   "source": [
    "# scatterplot on hist : change to hist bar\n",
    "def draw_scatterplot(df, x, y, size_col, title):\n",
    "    fig = px.scatter(df, x=x, y=y, size=size_col, title=title)\n",
    "    fig.show()\n",
    "\n",
    "\n",
    "# line on mean\n",
    "def draw_line(df, x, y, title):\n",
    "    fig = px.line(df, x=x, y=y, title=title)\n",
    "    fig.show()"
   ]
  },
  {
   "cell_type": "code",
   "execution_count": null,
   "metadata": {},
   "outputs": [],
   "source": [
    "#'previous_opponent_avg_goals_conceded_since_season_start',\n",
    "#'previous_team_avg_goals_score_since_season_start'"
   ]
  },
  {
   "cell_type": "code",
   "execution_count": null,
   "metadata": {},
   "outputs": [],
   "source": [
    "opponent_season_perf_on_goals_hist = hist_aggregator(df=liga_data, \n",
    "                column_to_describe='goals_scored', \n",
    "                aggreg_column='previous_opponent_avg_goals_conceded_since_season_start',\n",
    "                bin_step=.1)\n",
    "opponent_season_perf_on_goals_hist\n"
   ]
  },
  {
   "cell_type": "code",
   "execution_count": null,
   "metadata": {},
   "outputs": [],
   "source": [
    "draw_scatterplot(df=opponent_season_perf_on_goals_hist,\n",
    "                 x='previous_opponent_avg_goals_conceded_since_season_start_binned',\n",
    "                 y='goals_scored',\n",
    "                 size_col='cnt',\n",
    "                 title='Opponent avg goals conceded since season start vs goals to be scored')"
   ]
  },
  {
   "cell_type": "code",
   "execution_count": null,
   "metadata": {
    "scrolled": true
   },
   "outputs": [],
   "source": [
    "opponent_season_perf_on_goals_mean = mean_aggregator(df=liga_data, \n",
    "                column_to_describe='goals_scored', \n",
    "                aggreg_column='previous_opponent_avg_goals_conceded_since_season_start',\n",
    "                bin_step=.1)\n",
    "opponent_season_perf_on_goals_mean"
   ]
  },
  {
   "cell_type": "code",
   "execution_count": null,
   "metadata": {},
   "outputs": [],
   "source": [
    "draw_line(df=opponent_season_perf_on_goals_mean,\n",
    "          x='previous_opponent_avg_goals_conceded_since_season_start_binned',\n",
    "          y='avg_goals_scored', \n",
    "          title='Opponent avg goals conceded since season start vs avg goals to be scored')"
   ]
  },
  {
   "cell_type": "code",
   "execution_count": null,
   "metadata": {},
   "outputs": [],
   "source": [
    "team_season_perf_on_goals_hist = hist_aggregator(df=liga_data, \n",
    "                column_to_describe='goals_scored', \n",
    "                aggreg_column='previous_team_avg_goals_scored_since_season_start',\n",
    "                bin_step=.1)\n",
    "team_season_perf_on_goals_hist.head()"
   ]
  },
  {
   "cell_type": "code",
   "execution_count": null,
   "metadata": {},
   "outputs": [],
   "source": [
    "draw_scatterplot(df=team_season_perf_on_goals_hist, \n",
    "                 x='previous_team_avg_goals_scored_since_season_start_binned',\n",
    "                 y='goals_scored',\n",
    "                 size_col='cnt',\n",
    "                 title='Team avg goals scored since season start vs goals to be scored')"
   ]
  },
  {
   "cell_type": "code",
   "execution_count": null,
   "metadata": {
    "scrolled": true
   },
   "outputs": [],
   "source": [
    "team_season_perf_on_goals_mean = mean_aggregator(df=liga_data, \n",
    "                column_to_describe='goals_scored', \n",
    "                aggreg_column='previous_team_avg_goals_scored_since_season_start',\n",
    "                bin_step=.1)\n",
    "team_season_perf_on_goals_mean.head()"
   ]
  },
  {
   "cell_type": "code",
   "execution_count": null,
   "metadata": {},
   "outputs": [],
   "source": [
    "draw_line(df=team_season_perf_on_goals_mean,\n",
    "          x='previous_team_avg_goals_scored_since_season_start_binned', \n",
    "          y='avg_goals_scored',\n",
    "          title='Team avg goals scored since season start vs avg goals to be scored')"
   ]
  },
  {
   "cell_type": "markdown",
   "metadata": {},
   "source": [
    "## Average 5 last game goals scored / opponent avg goals conceded on number goals scored --> Scatterplot with jitter"
   ]
  },
  {
   "cell_type": "code",
   "execution_count": null,
   "metadata": {},
   "outputs": [],
   "source": [
    "#'previous_opponent_rolling_5_games_avg_goals_conceded',\n",
    "#'previous_team_rolling_5_games_avg_goals_scored'"
   ]
  },
  {
   "cell_type": "code",
   "execution_count": null,
   "metadata": {
    "scrolled": true
   },
   "outputs": [],
   "source": [
    "opponent_last5_perf_on_goals_hist = hist_aggregator(df=liga_data, \n",
    "                column_to_describe='goals_scored', \n",
    "                aggreg_column='previous_opponent_rolling_5_games_avg_goals_conceded',\n",
    "                bin_step=.1)\n",
    "opponent_last5_perf_on_goals_hist"
   ]
  },
  {
   "cell_type": "code",
   "execution_count": null,
   "metadata": {},
   "outputs": [],
   "source": [
    "draw_scatterplot(df=opponent_last5_perf_on_goals_hist, \n",
    "                 x='previous_opponent_rolling_5_games_avg_goals_conceded_binned',\n",
    "                 y='goals_scored',\n",
    "                 size_col='cnt',\n",
    "                 title='5 leg Avg on opponents goals conceded vs goals to be scored')"
   ]
  },
  {
   "cell_type": "code",
   "execution_count": null,
   "metadata": {
    "scrolled": true
   },
   "outputs": [],
   "source": [
    "opponent_last5_perf_on_goals_mean = mean_aggregator(df=liga_data, \n",
    "                column_to_describe='goals_scored', \n",
    "                aggreg_column='previous_opponent_rolling_5_games_avg_goals_conceded',\n",
    "                bin_step=.1)\n",
    "opponent_last5_perf_on_goals_mean"
   ]
  },
  {
   "cell_type": "code",
   "execution_count": null,
   "metadata": {},
   "outputs": [],
   "source": [
    "draw_line(df=opponent_last5_perf_on_goals_mean,\n",
    "          x='previous_opponent_rolling_5_games_avg_goals_conceded_binned',\n",
    "          y='avg_goals_scored',\n",
    "          title='5 leg Avg on opponents goals conceded vs avg goals to be scored')"
   ]
  },
  {
   "cell_type": "code",
   "execution_count": null,
   "metadata": {
    "scrolled": true
   },
   "outputs": [],
   "source": [
    "team_last5_perf_on_goals_hist = hist_aggregator(df=liga_data, \n",
    "                column_to_describe='goals_scored', \n",
    "                aggreg_column='previous_team_rolling_5_games_avg_goals_scored',\n",
    "                bin_step=.1)\n",
    "team_last5_perf_on_goals_hist"
   ]
  },
  {
   "cell_type": "code",
   "execution_count": null,
   "metadata": {},
   "outputs": [],
   "source": [
    "draw_scatterplot(df=team_last5_perf_on_goals_hist,\n",
    "                 x='previous_team_rolling_5_games_avg_goals_scored_binned',\n",
    "                 y='goals_scored',\n",
    "                 size_col='cnt',\n",
    "                 title='5 leg Avg on Team goals scored vs goals to be scored')"
   ]
  },
  {
   "cell_type": "code",
   "execution_count": null,
   "metadata": {
    "scrolled": true
   },
   "outputs": [],
   "source": [
    "team_last5_perf_on_goals_mean = mean_aggregator(df=liga_data, \n",
    "                column_to_describe='goals_scored', \n",
    "                aggreg_column='previous_team_rolling_5_games_avg_goals_scored',\n",
    "                bin_step=.1)\n",
    "team_last5_perf_on_goals_mean"
   ]
  },
  {
   "cell_type": "code",
   "execution_count": null,
   "metadata": {},
   "outputs": [],
   "source": [
    "draw_line(df=team_last5_perf_on_goals_mean,\n",
    "          x='previous_team_rolling_5_games_avg_goals_scored_binned',\n",
    "          y='avg_goals_scored',\n",
    "          title='5 leg Avg on Team goals scored vs avg goals to be scored')"
   ]
  },
  {
   "cell_type": "markdown",
   "metadata": {},
   "source": [
    "# LAST GAME PERFORMANCE"
   ]
  },
  {
   "cell_type": "markdown",
   "metadata": {},
   "source": [
    "##### Team"
   ]
  },
  {
   "cell_type": "code",
   "execution_count": null,
   "metadata": {
    "scrolled": true
   },
   "outputs": [],
   "source": [
    "last_game_team_goals_scored_hist = hist_aggregator(df=liga_data, \n",
    "                column_to_describe='goals_scored', \n",
    "                aggreg_column='previous_team_goals_scored',\n",
    "                bin_step=None)\n",
    "last_game_team_goals_scored_hist"
   ]
  },
  {
   "cell_type": "code",
   "execution_count": null,
   "metadata": {},
   "outputs": [],
   "source": [
    "draw_scatterplot(df=last_game_team_goals_scored_hist,\n",
    "                 x='previous_team_goals_scored',\n",
    "                 y='goals_scored',\n",
    "                 size_col='cnt', \n",
    "                 title='Team previous game goals scored vs goals to be scored')"
   ]
  },
  {
   "cell_type": "code",
   "execution_count": null,
   "metadata": {},
   "outputs": [],
   "source": [
    "last_game_team_goals_scored_mean = mean_aggregator(df=liga_data, \n",
    "                column_to_describe='goals_scored', \n",
    "                aggreg_column='previous_team_goals_scored',\n",
    "                bin_step=None)\n",
    "last_game_team_goals_scored_mean"
   ]
  },
  {
   "cell_type": "code",
   "execution_count": null,
   "metadata": {},
   "outputs": [],
   "source": [
    "draw_line(df=last_game_team_goals_scored_mean, \n",
    "          x='previous_team_goals_scored', \n",
    "          y='avg_goals_scored',\n",
    "          title='Team previous game goals scored vs avg goals to be scored')"
   ]
  },
  {
   "cell_type": "markdown",
   "metadata": {},
   "source": [
    "##### Opponent"
   ]
  },
  {
   "cell_type": "code",
   "execution_count": null,
   "metadata": {
    "scrolled": true
   },
   "outputs": [],
   "source": [
    "last_game_opponent_goals_conceded_hist = hist_aggregator(df=liga_data, \n",
    "                column_to_describe='goals_scored', \n",
    "                aggreg_column='previous_opponent_goals_conceded',\n",
    "                bin_step=None)\n",
    "last_game_opponent_goals_conceded_hist"
   ]
  },
  {
   "cell_type": "code",
   "execution_count": null,
   "metadata": {},
   "outputs": [],
   "source": [
    "draw_scatterplot(df=last_game_opponent_goals_conceded_hist,\n",
    "                 x='previous_opponent_goals_conceded',\n",
    "                 y='goals_scored',\n",
    "                 size_col='cnt',\n",
    "                 title='Opponent previous game goals conceded vs goals to be scored')"
   ]
  },
  {
   "cell_type": "code",
   "execution_count": null,
   "metadata": {},
   "outputs": [],
   "source": [
    "last_game_opponent_goals_conceded_mean = mean_aggregator(df=liga_data, \n",
    "                column_to_describe='goals_scored', \n",
    "                aggreg_column='previous_opponent_goals_conceded',\n",
    "                bin_step=None)\n",
    "last_game_opponent_goals_conceded_mean"
   ]
  },
  {
   "cell_type": "code",
   "execution_count": null,
   "metadata": {},
   "outputs": [],
   "source": [
    "draw_line(df=last_game_opponent_goals_conceded_mean,\n",
    "          x='previous_opponent_goals_conceded',\n",
    "          y='avg_goals_scored',\n",
    "          title='Opponent previous game goals conceded vs avg goals to be scored')"
   ]
  },
  {
   "cell_type": "markdown",
   "metadata": {},
   "source": [
    "# ANNEXE"
   ]
  },
  {
   "cell_type": "code",
   "execution_count": null,
   "metadata": {},
   "outputs": [],
   "source": [
    "def show_named_plotly_colours():\n",
    "    \"\"\"\n",
    "    function to display to user the colours to match plotly's named\n",
    "    css colours.\n",
    "\n",
    "    Reference:\n",
    "        #https://community.plotly.com/t/plotly-colours-list/11730/3\n",
    "\n",
    "    Returns:\n",
    "        plotly dataframe with cell colour to match named colour name\n",
    "\n",
    "    \"\"\"\n",
    "    s='''\n",
    "        aliceblue, antiquewhite, aqua, aquamarine, azure,\n",
    "        beige, bisque, black, blanchedalmond, blue,\n",
    "        blueviolet, brown, burlywood, cadetblue,\n",
    "        chartreuse, chocolate, coral, cornflowerblue,\n",
    "        cornsilk, crimson, cyan, darkblue, darkcyan,\n",
    "        darkgoldenrod, darkgray, darkgrey, darkgreen,\n",
    "        darkkhaki, darkmagenta, darkolivegreen, darkorange,\n",
    "        darkorchid, darkred, darksalmon, darkseagreen,\n",
    "        darkslateblue, darkslategray, darkslategrey,\n",
    "        darkturquoise, darkviolet, deeppink, deepskyblue,\n",
    "        dimgray, dimgrey, dodgerblue, firebrick,\n",
    "        floralwhite, forestgreen, fuchsia, gainsboro,\n",
    "        ghostwhite, gold, goldenrod, gray, grey, green,\n",
    "        greenyellow, honeydew, hotpink, indianred, indigo,\n",
    "        ivory, khaki, lavender, lavenderblush, lawngreen,\n",
    "        lemonchiffon, lightblue, lightcoral, lightcyan,\n",
    "        lightgoldenrodyellow, lightgray, lightgrey,\n",
    "        lightgreen, lightpink, lightsalmon, lightseagreen,\n",
    "        lightskyblue, lightslategray, lightslategrey,\n",
    "        lightsteelblue, lightyellow, lime, limegreen,\n",
    "        linen, magenta, maroon, mediumaquamarine,\n",
    "        mediumblue, mediumorchid, mediumpurple,\n",
    "        mediumseagreen, mediumslateblue, mediumspringgreen,\n",
    "        mediumturquoise, mediumvioletred, midnightblue,\n",
    "        mintcream, mistyrose, moccasin, navajowhite, navy,\n",
    "        oldlace, olive, olivedrab, orange, orangered,\n",
    "        orchid, palegoldenrod, palegreen, paleturquoise,\n",
    "        palevioletred, papayawhip, peachpuff, peru, pink,\n",
    "        plum, powderblue, purple, red, rosybrown,\n",
    "        royalblue, saddlebrown, salmon, sandybrown,\n",
    "        seagreen, seashell, sienna, silver, skyblue,\n",
    "        slateblue, slategray, slategrey, snow, springgreen,\n",
    "        steelblue, tan, teal, thistle, tomato, turquoise,\n",
    "        violet, wheat, white, whitesmoke, yellow,\n",
    "        yellowgreen\n",
    "        '''\n",
    "    li=s.split(',')\n",
    "    li=[l.replace('\\n','') for l in li]\n",
    "    li=[l.replace(' ','') for l in li]\n",
    "\n",
    "    import pandas as pd\n",
    "    import plotly.graph_objects as go\n",
    "\n",
    "    df=pd.DataFrame.from_dict({'colour': li})\n",
    "    fig_col = go.Figure(data=[go.Table(\n",
    "      header=dict(\n",
    "        values=[\"Plotly Named CSS colours\"],\n",
    "        line_color='black', fill_color='white',\n",
    "        align='center', font=dict(color='black', size=14)\n",
    "      ),\n",
    "      cells=dict(\n",
    "        values=[df.colour],\n",
    "        line_color=[df.colour], fill_color=[df.colour],\n",
    "        align='center', font=dict(color='black', size=11)\n",
    "      ))\n",
    "    ])\n",
    "\n",
    "    fig_col.show()"
   ]
  },
  {
   "cell_type": "code",
   "execution_count": null,
   "metadata": {},
   "outputs": [],
   "source": [
    "show_named_plotly_colours()"
   ]
  },
  {
   "cell_type": "code",
   "execution_count": null,
   "metadata": {},
   "outputs": [],
   "source": [
    "color_2_position = {1: \"royalblue\",\n",
    "                   2: \"aqua\",\n",
    "                   3: \"cornflowerblue\",\n",
    "                   4: \"chartreuse\",\n",
    "                   5: \"yellowgreen\",\n",
    "                   6: \"green\",\n",
    "                   7: \"teal\",\n",
    "                   8: \"purple\",\n",
    "                   9: \"mediumturquoise\",\n",
    "                   10: \"plum\",\n",
    "                   11: \"khaki\",\n",
    "                   12: \"goldenrod\",\n",
    "                   13: \"yellow\",\n",
    "                   14: \"chocolate\",\n",
    "                   15: \"lightpink\",\n",
    "                   16: \"hotpink\",\n",
    "                   17: \"lightsalmon\",\n",
    "                   18: \"orange\",\n",
    "                   19: \"orangered\",\n",
    "                   20: \"red\"}"
   ]
  }
 ],
 "metadata": {
  "kernelspec": {
   "display_name": "env_labo",
   "language": "python",
   "name": "env_labo"
  },
  "language_info": {
   "codemirror_mode": {
    "name": "ipython",
    "version": 3
   },
   "file_extension": ".py",
   "mimetype": "text/x-python",
   "name": "python",
   "nbconvert_exporter": "python",
   "pygments_lexer": "ipython3",
   "version": "3.7.9"
  }
 },
 "nbformat": 4,
 "nbformat_minor": 4
}
