{
 "cells": [
  {
   "cell_type": "markdown",
   "metadata": {},
   "source": [
    "# Objective\n",
    "\n",
    "The purpose of this notebook is to build a model able to predict the number of goals a team is going to score\n",
    "at the next game.\n",
    "\n",
    "Features are Team plays at home/away, number of goals it scored the last 5 games, during all season so far, the leg, its position, the number of points it has as well as the opponent's rank, number of points, goals conceded last 5 games and number of goals conceded so far.\n",
    "\n",
    "Then use the probabilities obtained to simulate the last N games of a championship."
   ]
  },
  {
   "cell_type": "code",
   "execution_count": 1,
   "metadata": {},
   "outputs": [],
   "source": [
    "import pandas as pd\n",
    "import numpy as np\n",
    "import math\n",
    "import plotly.express as px\n",
    "from copy import deepcopy"
   ]
  },
  {
   "cell_type": "code",
   "execution_count": 2,
   "metadata": {},
   "outputs": [],
   "source": [
    "import seaborn as sns\n",
    "import matplotlib.pyplot as plt"
   ]
  },
  {
   "cell_type": "code",
   "execution_count": 3,
   "metadata": {},
   "outputs": [],
   "source": [
    "def rolling_mean_n_performance(df, window=5, performance_col='goals_scored'):\n",
    "    dg = df.sort_values(by=['leg'])[['season', 'team', performance_col]].groupby(\n",
    "        by=['season', 'team'])[performance_col].rolling(window=window, min_periods=1).mean().reset_index()\n",
    "    \n",
    "    new_col_name = f'rolling_{window}_games_avg_{performance_col}'\n",
    "    df[new_col_name] = dg.set_index('level_2')[performance_col]\n",
    "    return df\n",
    "\n",
    "def get_past_feature(df, feat_col, team=True):\n",
    "\n",
    "    merge_col = 'team' if team else 'opponent'    \n",
    "    tmp_df = deepcopy(df[['season', 'leg', merge_col, feat_col]])\n",
    "    tmp_df.loc[:,'next_leg'] = tmp_df['leg'] +1\n",
    "\n",
    "    tmp_df.rename(columns={'leg': 'previous_leg', \n",
    "                           'next_leg':'leg', \n",
    "                           feat_col:f'previous_{merge_col}_{feat_col}'},\n",
    "                  inplace=True)\n",
    "\n",
    "    df = df.merge(tmp_df, how='left', on=['leg', 'season', merge_col])\n",
    "    df.drop(columns=['previous_leg'], inplace=True)\n",
    "    return df"
   ]
  },
  {
   "cell_type": "code",
   "execution_count": 4,
   "metadata": {},
   "outputs": [],
   "source": [
    "def prepare_data(csv_path, championship, rolling=5):\n",
    "    df = pd.read_csv(csv_path).drop(columns='Unnamed: 0')\n",
    "    df['championship'] = championship\n",
    "    df['goal_diff'] = df['goals_scored'] - df['goals_conceded']\n",
    "    # cumulative\n",
    "    df['cum_pts'] = df[['season', 'team', 'nb_points']].groupby(\n",
    "    by=['season', 'team']).cumsum()\n",
    "    \n",
    "    df['cum_goal_diff'] = df[['season', 'team', 'goal_diff']].groupby(\n",
    "    by=['season', 'team']).cumsum()\n",
    "    \n",
    "    df['cum_goals_scored'] = df[['season', 'team', 'goals_scored']].groupby(\n",
    "    by=['season', 'team']).cumsum()\n",
    "    \n",
    "    df['cum_goals_conceded'] = df['cum_goals_scored']-df['cum_goal_diff']\n",
    "    df['rank'] = df[['season', 'leg', 'cum_pts', 'cum_goal_diff', 'cum_goals_scored']].sort_values(\n",
    "        by=['cum_pts', 'cum_goal_diff', 'cum_goals_scored'], ascending=False).groupby(\n",
    "        by=['season', 'leg']).cumcount() + 1\n",
    "    \n",
    "    df['avg_goals_scored_since_season_start'] = df['cum_goals_scored'].div(df['leg'])\n",
    "    df['avg_goals_conceded_since_season_start'] = df['cum_goals_conceded'].div(df['leg'])\n",
    "    df['avg_cum_pts_since_season_start'] = df['cum_pts'].div(df['leg'])\n",
    "    \n",
    "    # removed unwanted useless seasons\n",
    "    data = deepcopy(df[df.season > '2003-2004'])\n",
    "    data.reset_index(drop=True, inplace=True)\n",
    "    \n",
    "    leg_max = data.leg.max()\n",
    "    \n",
    "    end_season = data[data.leg==leg_max].rename(columns={'rank':'final_rank', 'cum_pts': 'final_cum_pts'})\n",
    "    data = data.merge(end_season[['season', 'team', 'final_rank', 'final_cum_pts']], on=['season', 'team'])\n",
    "    \n",
    "    # rolling mean\n",
    "    cols = ['goals_conceded', 'goals_scored', 'nb_points']\n",
    "    for c in cols:\n",
    "        data = rolling_mean_n_performance(df=data, window=rolling, performance_col=c)\n",
    "    # past features\n",
    "    past_features = {'rank': [True, False], \n",
    "                     'rolling_5_games_avg_goals_scored' : [True],\n",
    "                     'rolling_5_games_avg_goals_conceded': [False],\n",
    "                     'avg_goals_scored_since_season_start': [True],\n",
    "                     'avg_goals_conceded_since_season_start': [False],\n",
    "                     'goals_scored': [True],\n",
    "                     'goals_conceded': [False],\n",
    "                     'rolling_5_games_avg_nb_points': [True, False],\n",
    "                     'nb_points': [True, False]\n",
    "                    }\n",
    "    # print(f'length {len(data)}')\n",
    "    for col, is_team_ll in past_features.items():\n",
    "        for is_team in is_team_ll:\n",
    "            # print(f\"is_team ={is_team}, col = {col}\")\n",
    "            data = get_past_feature(df=data, feat_col=col, team=is_team)\n",
    "    \n",
    "    return data"
   ]
  },
  {
   "cell_type": "code",
   "execution_count": 5,
   "metadata": {},
   "outputs": [],
   "source": [
    "def get_pivoted(data: pd.DataFrame, break_leg: int, value_col: str = 'goals_scored'):\n",
    "    \n",
    "    df = deepcopy(data[data.leg <= break_leg])\n",
    "    df.rolling_5_games_avg_nb_points = [y if x!=x else x for x, y in \n",
    "           zip(df.rolling_5_games_avg_nb_points, df.avg_cum_pts_since_season_start)]\n",
    "    \n",
    "    df_pivot = df.pivot_table(index=['season', 'team'], \n",
    "                              columns='leg', \n",
    "                              values=[value_col]).reset_index()\n",
    "    \n",
    "    df_pivot.columns = [f'leg_{l}' if l!='' else n for n, l in df_pivot.columns]\n",
    "    \n",
    "    final = df[['season', 'team', 'final_rank', 'final_cum_pts']].drop_duplicates()\n",
    "    df_last_leg = df[df.leg==break_leg][['season', \n",
    "                                          'team', \n",
    "                                          'rank', \n",
    "                                          'rolling_5_games_avg_nb_points', \n",
    "                                          'avg_cum_pts_since_season_start', \n",
    "                                          'cum_pts']].reset_index(drop=True)\n",
    "    \n",
    "    df_pivot = df_pivot.merge(df_last_leg, on=['season', 'team'])\n",
    "    \n",
    "    return df_pivot.merge(final, on=['season', 'team'])"
   ]
  },
  {
   "cell_type": "code",
   "execution_count": 6,
   "metadata": {},
   "outputs": [],
   "source": [
    "# hist on goal scored"
   ]
  },
  {
   "cell_type": "code",
   "execution_count": 7,
   "metadata": {},
   "outputs": [],
   "source": [
    "# Preprocessing"
   ]
  },
  {
   "cell_type": "code",
   "execution_count": 8,
   "metadata": {},
   "outputs": [],
   "source": [
    "championship_csv = {'ligue-1': 'ligue-1_data_2002_2019',\n",
    "                   'ligue-2': 'ligue-2_data_2002_2019',\n",
    "                   'serie-A': 'serie-a_data_2004_2019',\n",
    "                   'bundesliga': 'bundesliga_data_2004_2019',\n",
    "                   'premier-league': 'premier-league_data_2004_2019',\n",
    "                   'liga':'liga_data_2004_2019'}"
   ]
  },
  {
   "cell_type": "code",
   "execution_count": 9,
   "metadata": {},
   "outputs": [],
   "source": [
    "d# ata_df = prepare_data(championship_csv['ligue-1'], championship='ligue-1')"
   ]
  },
  {
   "cell_type": "code",
   "execution_count": 10,
   "metadata": {},
   "outputs": [],
   "source": [
    "all_data_dfs = [prepare_data(csv_path=path, championship=champ) for champ, path in championship_csv.items()]"
   ]
  },
  {
   "cell_type": "code",
   "execution_count": 11,
   "metadata": {},
   "outputs": [],
   "source": [
    "all_data_df = pd.concat(all_data_dfs)"
   ]
  },
  {
   "cell_type": "code",
   "execution_count": 12,
   "metadata": {},
   "outputs": [],
   "source": [
    "data_exploitable_df = deepcopy(all_data_df[all_data_df.leg > 1]).reset_index()"
   ]
  },
  {
   "cell_type": "code",
   "execution_count": 13,
   "metadata": {},
   "outputs": [],
   "source": [
    "#data_df.head()"
   ]
  },
  {
   "cell_type": "code",
   "execution_count": 14,
   "metadata": {},
   "outputs": [
    {
     "data": {
      "text/html": [
       "<div>\n",
       "<style scoped>\n",
       "    .dataframe tbody tr th:only-of-type {\n",
       "        vertical-align: middle;\n",
       "    }\n",
       "\n",
       "    .dataframe tbody tr th {\n",
       "        vertical-align: top;\n",
       "    }\n",
       "\n",
       "    .dataframe thead th {\n",
       "        text-align: right;\n",
       "    }\n",
       "</style>\n",
       "<table border=\"1\" class=\"dataframe\">\n",
       "  <thead>\n",
       "    <tr style=\"text-align: right;\">\n",
       "      <th></th>\n",
       "      <th>index</th>\n",
       "      <th>country</th>\n",
       "      <th>season</th>\n",
       "      <th>leg</th>\n",
       "      <th>team</th>\n",
       "      <th>play</th>\n",
       "      <th>goals_scored</th>\n",
       "      <th>opponent</th>\n",
       "      <th>goals_conceded</th>\n",
       "      <th>nb_points</th>\n",
       "      <th>...</th>\n",
       "      <th>previous_team_rolling_5_games_avg_goals_scored</th>\n",
       "      <th>previous_opponent_rolling_5_games_avg_goals_conceded</th>\n",
       "      <th>previous_team_avg_goals_scored_since_season_start</th>\n",
       "      <th>previous_opponent_avg_goals_conceded_since_season_start</th>\n",
       "      <th>previous_team_goals_scored</th>\n",
       "      <th>previous_opponent_goals_conceded</th>\n",
       "      <th>previous_team_rolling_5_games_avg_nb_points</th>\n",
       "      <th>previous_opponent_rolling_5_games_avg_nb_points</th>\n",
       "      <th>previous_team_nb_points</th>\n",
       "      <th>previous_opponent_nb_points</th>\n",
       "    </tr>\n",
       "  </thead>\n",
       "  <tbody>\n",
       "    <tr>\n",
       "      <th>0</th>\n",
       "      <td>1</td>\n",
       "      <td>France</td>\n",
       "      <td>2004-2005</td>\n",
       "      <td>2</td>\n",
       "      <td>Lyon</td>\n",
       "      <td>Home</td>\n",
       "      <td>1</td>\n",
       "      <td>Sochaux</td>\n",
       "      <td>1</td>\n",
       "      <td>1</td>\n",
       "      <td>...</td>\n",
       "      <td>0.000000</td>\n",
       "      <td>1.000000</td>\n",
       "      <td>0.000000</td>\n",
       "      <td>1.000000</td>\n",
       "      <td>0.0</td>\n",
       "      <td>1.0</td>\n",
       "      <td>1.0</td>\n",
       "      <td>3.000000</td>\n",
       "      <td>1.0</td>\n",
       "      <td>3.0</td>\n",
       "    </tr>\n",
       "    <tr>\n",
       "      <th>1</th>\n",
       "      <td>2</td>\n",
       "      <td>France</td>\n",
       "      <td>2004-2005</td>\n",
       "      <td>3</td>\n",
       "      <td>Lyon</td>\n",
       "      <td>Away</td>\n",
       "      <td>1</td>\n",
       "      <td>Metz</td>\n",
       "      <td>1</td>\n",
       "      <td>1</td>\n",
       "      <td>...</td>\n",
       "      <td>0.500000</td>\n",
       "      <td>1.500000</td>\n",
       "      <td>0.500000</td>\n",
       "      <td>1.500000</td>\n",
       "      <td>1.0</td>\n",
       "      <td>2.0</td>\n",
       "      <td>1.0</td>\n",
       "      <td>1.500000</td>\n",
       "      <td>1.0</td>\n",
       "      <td>0.0</td>\n",
       "    </tr>\n",
       "    <tr>\n",
       "      <th>2</th>\n",
       "      <td>3</td>\n",
       "      <td>France</td>\n",
       "      <td>2004-2005</td>\n",
       "      <td>4</td>\n",
       "      <td>Lyon</td>\n",
       "      <td>Home</td>\n",
       "      <td>1</td>\n",
       "      <td>Lille</td>\n",
       "      <td>0</td>\n",
       "      <td>3</td>\n",
       "      <td>...</td>\n",
       "      <td>0.666667</td>\n",
       "      <td>1.333333</td>\n",
       "      <td>0.666667</td>\n",
       "      <td>1.333333</td>\n",
       "      <td>1.0</td>\n",
       "      <td>0.0</td>\n",
       "      <td>1.0</td>\n",
       "      <td>1.666667</td>\n",
       "      <td>1.0</td>\n",
       "      <td>1.0</td>\n",
       "    </tr>\n",
       "    <tr>\n",
       "      <th>3</th>\n",
       "      <td>4</td>\n",
       "      <td>France</td>\n",
       "      <td>2004-2005</td>\n",
       "      <td>5</td>\n",
       "      <td>Lyon</td>\n",
       "      <td>Away</td>\n",
       "      <td>2</td>\n",
       "      <td>Rennes</td>\n",
       "      <td>1</td>\n",
       "      <td>3</td>\n",
       "      <td>...</td>\n",
       "      <td>0.750000</td>\n",
       "      <td>1.250000</td>\n",
       "      <td>0.750000</td>\n",
       "      <td>1.250000</td>\n",
       "      <td>1.0</td>\n",
       "      <td>1.0</td>\n",
       "      <td>1.5</td>\n",
       "      <td>1.000000</td>\n",
       "      <td>3.0</td>\n",
       "      <td>1.0</td>\n",
       "    </tr>\n",
       "    <tr>\n",
       "      <th>4</th>\n",
       "      <td>5</td>\n",
       "      <td>France</td>\n",
       "      <td>2004-2005</td>\n",
       "      <td>6</td>\n",
       "      <td>Lyon</td>\n",
       "      <td>Home</td>\n",
       "      <td>0</td>\n",
       "      <td>Bastia</td>\n",
       "      <td>0</td>\n",
       "      <td>1</td>\n",
       "      <td>...</td>\n",
       "      <td>1.000000</td>\n",
       "      <td>1.200000</td>\n",
       "      <td>1.000000</td>\n",
       "      <td>1.200000</td>\n",
       "      <td>2.0</td>\n",
       "      <td>1.0</td>\n",
       "      <td>1.8</td>\n",
       "      <td>1.800000</td>\n",
       "      <td>3.0</td>\n",
       "      <td>0.0</td>\n",
       "    </tr>\n",
       "  </tbody>\n",
       "</table>\n",
       "<p>5 rows × 37 columns</p>\n",
       "</div>"
      ],
      "text/plain": [
       "   index country     season  leg  team  play  goals_scored opponent  \\\n",
       "0      1  France  2004-2005    2  Lyon  Home             1  Sochaux   \n",
       "1      2  France  2004-2005    3  Lyon  Away             1     Metz   \n",
       "2      3  France  2004-2005    4  Lyon  Home             1    Lille   \n",
       "3      4  France  2004-2005    5  Lyon  Away             2   Rennes   \n",
       "4      5  France  2004-2005    6  Lyon  Home             0   Bastia   \n",
       "\n",
       "   goals_conceded  nb_points  ...  \\\n",
       "0               1          1  ...   \n",
       "1               1          1  ...   \n",
       "2               0          3  ...   \n",
       "3               1          3  ...   \n",
       "4               0          1  ...   \n",
       "\n",
       "  previous_team_rolling_5_games_avg_goals_scored  \\\n",
       "0                                       0.000000   \n",
       "1                                       0.500000   \n",
       "2                                       0.666667   \n",
       "3                                       0.750000   \n",
       "4                                       1.000000   \n",
       "\n",
       "   previous_opponent_rolling_5_games_avg_goals_conceded  \\\n",
       "0                                           1.000000      \n",
       "1                                           1.500000      \n",
       "2                                           1.333333      \n",
       "3                                           1.250000      \n",
       "4                                           1.200000      \n",
       "\n",
       "   previous_team_avg_goals_scored_since_season_start  \\\n",
       "0                                           0.000000   \n",
       "1                                           0.500000   \n",
       "2                                           0.666667   \n",
       "3                                           0.750000   \n",
       "4                                           1.000000   \n",
       "\n",
       "   previous_opponent_avg_goals_conceded_since_season_start  \\\n",
       "0                                           1.000000         \n",
       "1                                           1.500000         \n",
       "2                                           1.333333         \n",
       "3                                           1.250000         \n",
       "4                                           1.200000         \n",
       "\n",
       "   previous_team_goals_scored  previous_opponent_goals_conceded  \\\n",
       "0                         0.0                               1.0   \n",
       "1                         1.0                               2.0   \n",
       "2                         1.0                               0.0   \n",
       "3                         1.0                               1.0   \n",
       "4                         2.0                               1.0   \n",
       "\n",
       "   previous_team_rolling_5_games_avg_nb_points  \\\n",
       "0                                          1.0   \n",
       "1                                          1.0   \n",
       "2                                          1.0   \n",
       "3                                          1.5   \n",
       "4                                          1.8   \n",
       "\n",
       "   previous_opponent_rolling_5_games_avg_nb_points  previous_team_nb_points  \\\n",
       "0                                         3.000000                      1.0   \n",
       "1                                         1.500000                      1.0   \n",
       "2                                         1.666667                      1.0   \n",
       "3                                         1.000000                      3.0   \n",
       "4                                         1.800000                      3.0   \n",
       "\n",
       "   previous_opponent_nb_points  \n",
       "0                          3.0  \n",
       "1                          0.0  \n",
       "2                          1.0  \n",
       "3                          1.0  \n",
       "4                          0.0  \n",
       "\n",
       "[5 rows x 37 columns]"
      ]
     },
     "execution_count": 14,
     "metadata": {},
     "output_type": "execute_result"
    }
   ],
   "source": [
    "data_exploitable_df.head()"
   ]
  },
  {
   "cell_type": "markdown",
   "metadata": {},
   "source": [
    "# Xgboost Regressor \n",
    "\n",
    "Despite we want to predict a number in a small set of possibilities, there is an order between them"
   ]
  },
  {
   "cell_type": "code",
   "execution_count": 15,
   "metadata": {},
   "outputs": [],
   "source": [
    "from xgboost import XGBRFRegressor, XGBRegressor"
   ]
  },
  {
   "cell_type": "code",
   "execution_count": 16,
   "metadata": {},
   "outputs": [],
   "source": [
    "from collections import Counter"
   ]
  },
  {
   "cell_type": "code",
   "execution_count": 17,
   "metadata": {},
   "outputs": [],
   "source": [
    "from sklearn.ensemble import RandomForestRegressor, ExtraTreesRegressor"
   ]
  },
  {
   "cell_type": "code",
   "execution_count": 18,
   "metadata": {},
   "outputs": [],
   "source": [
    "from sklearn.tree import DecisionTreeRegressor"
   ]
  },
  {
   "cell_type": "code",
   "execution_count": 19,
   "metadata": {},
   "outputs": [],
   "source": [
    "from sklearn.linear_model import Ridge, SGDRegressor, PoissonRegressor"
   ]
  },
  {
   "cell_type": "code",
   "execution_count": 20,
   "metadata": {},
   "outputs": [],
   "source": [
    "from sklearn.neighbors import KNeighborsRegressor\n",
    "from sklearn.neural_network import MLPRegressor"
   ]
  },
  {
   "cell_type": "code",
   "execution_count": 21,
   "metadata": {},
   "outputs": [],
   "source": [
    "from sklearn.model_selection import train_test_split"
   ]
  },
  {
   "cell_type": "code",
   "execution_count": 22,
   "metadata": {
    "scrolled": true
   },
   "outputs": [],
   "source": [
    "from imblearn.over_sampling import RandomOverSampler, SMOTE"
   ]
  },
  {
   "cell_type": "code",
   "execution_count": 23,
   "metadata": {},
   "outputs": [],
   "source": [
    "from sklearn.preprocessing import MinMaxScaler"
   ]
  },
  {
   "cell_type": "markdown",
   "metadata": {},
   "source": [
    "#### data prep"
   ]
  },
  {
   "cell_type": "code",
   "execution_count": 24,
   "metadata": {},
   "outputs": [],
   "source": [
    "no_use_cols = ['index', 'country', 'season', 'team', 'opponent', \n",
    "               'previous_team_rolling_5_games_avg_goals_scored_binned']\n",
    "usable_cols = [c for c in data_exploitable_df.columns if c not in no_use_cols]\n",
    "usable_cols = ['leg', 'play'] + [c for c in usable_cols if c.startswith('previous')] + ['goals_scored']"
   ]
  },
  {
   "cell_type": "code",
   "execution_count": 25,
   "metadata": {},
   "outputs": [],
   "source": [
    "regressor_data_df = deepcopy(data_exploitable_df.loc[:,usable_cols])"
   ]
  },
  {
   "cell_type": "code",
   "execution_count": 26,
   "metadata": {},
   "outputs": [],
   "source": [
    "regressor_data_df = deepcopy(regressor_data_df[regressor_data_df.goals_scored < 5])"
   ]
  },
  {
   "cell_type": "code",
   "execution_count": 27,
   "metadata": {},
   "outputs": [
    {
     "data": {
      "text/html": [
       "<div>\n",
       "<style scoped>\n",
       "    .dataframe tbody tr th:only-of-type {\n",
       "        vertical-align: middle;\n",
       "    }\n",
       "\n",
       "    .dataframe tbody tr th {\n",
       "        vertical-align: top;\n",
       "    }\n",
       "\n",
       "    .dataframe thead th {\n",
       "        text-align: right;\n",
       "    }\n",
       "</style>\n",
       "<table border=\"1\" class=\"dataframe\">\n",
       "  <thead>\n",
       "    <tr style=\"text-align: right;\">\n",
       "      <th></th>\n",
       "      <th>leg</th>\n",
       "      <th>play</th>\n",
       "      <th>previous_team_rank</th>\n",
       "      <th>previous_opponent_rank</th>\n",
       "      <th>previous_team_rolling_5_games_avg_goals_scored</th>\n",
       "      <th>previous_opponent_rolling_5_games_avg_goals_conceded</th>\n",
       "      <th>previous_team_avg_goals_scored_since_season_start</th>\n",
       "      <th>previous_opponent_avg_goals_conceded_since_season_start</th>\n",
       "      <th>previous_team_goals_scored</th>\n",
       "      <th>previous_opponent_goals_conceded</th>\n",
       "      <th>previous_team_rolling_5_games_avg_nb_points</th>\n",
       "      <th>previous_opponent_rolling_5_games_avg_nb_points</th>\n",
       "      <th>previous_team_nb_points</th>\n",
       "      <th>previous_opponent_nb_points</th>\n",
       "      <th>goals_scored</th>\n",
       "    </tr>\n",
       "  </thead>\n",
       "  <tbody>\n",
       "    <tr>\n",
       "      <th>0</th>\n",
       "      <td>2</td>\n",
       "      <td>Home</td>\n",
       "      <td>12.0</td>\n",
       "      <td>2.0</td>\n",
       "      <td>0.000000</td>\n",
       "      <td>1.000000</td>\n",
       "      <td>0.000000</td>\n",
       "      <td>1.000000</td>\n",
       "      <td>0.0</td>\n",
       "      <td>1.0</td>\n",
       "      <td>1.0</td>\n",
       "      <td>3.000000</td>\n",
       "      <td>1.0</td>\n",
       "      <td>3.0</td>\n",
       "      <td>1</td>\n",
       "    </tr>\n",
       "    <tr>\n",
       "      <th>1</th>\n",
       "      <td>3</td>\n",
       "      <td>Away</td>\n",
       "      <td>14.0</td>\n",
       "      <td>8.0</td>\n",
       "      <td>0.500000</td>\n",
       "      <td>1.500000</td>\n",
       "      <td>0.500000</td>\n",
       "      <td>1.500000</td>\n",
       "      <td>1.0</td>\n",
       "      <td>2.0</td>\n",
       "      <td>1.0</td>\n",
       "      <td>1.500000</td>\n",
       "      <td>1.0</td>\n",
       "      <td>0.0</td>\n",
       "      <td>1</td>\n",
       "    </tr>\n",
       "    <tr>\n",
       "      <th>2</th>\n",
       "      <td>4</td>\n",
       "      <td>Home</td>\n",
       "      <td>15.0</td>\n",
       "      <td>4.0</td>\n",
       "      <td>0.666667</td>\n",
       "      <td>1.333333</td>\n",
       "      <td>0.666667</td>\n",
       "      <td>1.333333</td>\n",
       "      <td>1.0</td>\n",
       "      <td>0.0</td>\n",
       "      <td>1.0</td>\n",
       "      <td>1.666667</td>\n",
       "      <td>1.0</td>\n",
       "      <td>1.0</td>\n",
       "      <td>1</td>\n",
       "    </tr>\n",
       "    <tr>\n",
       "      <th>3</th>\n",
       "      <td>5</td>\n",
       "      <td>Away</td>\n",
       "      <td>6.0</td>\n",
       "      <td>13.0</td>\n",
       "      <td>0.750000</td>\n",
       "      <td>1.250000</td>\n",
       "      <td>0.750000</td>\n",
       "      <td>1.250000</td>\n",
       "      <td>1.0</td>\n",
       "      <td>1.0</td>\n",
       "      <td>1.5</td>\n",
       "      <td>1.000000</td>\n",
       "      <td>3.0</td>\n",
       "      <td>1.0</td>\n",
       "      <td>2</td>\n",
       "    </tr>\n",
       "    <tr>\n",
       "      <th>4</th>\n",
       "      <td>6</td>\n",
       "      <td>Home</td>\n",
       "      <td>4.0</td>\n",
       "      <td>5.0</td>\n",
       "      <td>1.000000</td>\n",
       "      <td>1.200000</td>\n",
       "      <td>1.000000</td>\n",
       "      <td>1.200000</td>\n",
       "      <td>2.0</td>\n",
       "      <td>1.0</td>\n",
       "      <td>1.8</td>\n",
       "      <td>1.800000</td>\n",
       "      <td>3.0</td>\n",
       "      <td>0.0</td>\n",
       "      <td>0</td>\n",
       "    </tr>\n",
       "    <tr>\n",
       "      <th>...</th>\n",
       "      <td>...</td>\n",
       "      <td>...</td>\n",
       "      <td>...</td>\n",
       "      <td>...</td>\n",
       "      <td>...</td>\n",
       "      <td>...</td>\n",
       "      <td>...</td>\n",
       "      <td>...</td>\n",
       "      <td>...</td>\n",
       "      <td>...</td>\n",
       "      <td>...</td>\n",
       "      <td>...</td>\n",
       "      <td>...</td>\n",
       "      <td>...</td>\n",
       "      <td>...</td>\n",
       "    </tr>\n",
       "    <tr>\n",
       "      <th>64405</th>\n",
       "      <td>34</td>\n",
       "      <td>Away</td>\n",
       "      <td>1.0</td>\n",
       "      <td>18.0</td>\n",
       "      <td>2.000000</td>\n",
       "      <td>1.600000</td>\n",
       "      <td>2.484848</td>\n",
       "      <td>1.484848</td>\n",
       "      <td>2.0</td>\n",
       "      <td>2.0</td>\n",
       "      <td>2.2</td>\n",
       "      <td>0.600000</td>\n",
       "      <td>3.0</td>\n",
       "      <td>1.0</td>\n",
       "      <td>2</td>\n",
       "    </tr>\n",
       "    <tr>\n",
       "      <th>64406</th>\n",
       "      <td>35</td>\n",
       "      <td>Home</td>\n",
       "      <td>1.0</td>\n",
       "      <td>8.0</td>\n",
       "      <td>2.000000</td>\n",
       "      <td>2.400000</td>\n",
       "      <td>2.470588</td>\n",
       "      <td>1.352941</td>\n",
       "      <td>2.0</td>\n",
       "      <td>4.0</td>\n",
       "      <td>2.2</td>\n",
       "      <td>0.600000</td>\n",
       "      <td>3.0</td>\n",
       "      <td>0.0</td>\n",
       "      <td>1</td>\n",
       "    </tr>\n",
       "    <tr>\n",
       "      <th>64407</th>\n",
       "      <td>36</td>\n",
       "      <td>Away</td>\n",
       "      <td>1.0</td>\n",
       "      <td>12.0</td>\n",
       "      <td>1.400000</td>\n",
       "      <td>1.000000</td>\n",
       "      <td>2.428571</td>\n",
       "      <td>1.114286</td>\n",
       "      <td>1.0</td>\n",
       "      <td>0.0</td>\n",
       "      <td>2.6</td>\n",
       "      <td>0.600000</td>\n",
       "      <td>3.0</td>\n",
       "      <td>1.0</td>\n",
       "      <td>0</td>\n",
       "    </tr>\n",
       "    <tr>\n",
       "      <th>64408</th>\n",
       "      <td>37</td>\n",
       "      <td>Home</td>\n",
       "      <td>1.0</td>\n",
       "      <td>18.0</td>\n",
       "      <td>1.000000</td>\n",
       "      <td>1.200000</td>\n",
       "      <td>2.361111</td>\n",
       "      <td>1.416667</td>\n",
       "      <td>0.0</td>\n",
       "      <td>2.0</td>\n",
       "      <td>2.0</td>\n",
       "      <td>0.600000</td>\n",
       "      <td>0.0</td>\n",
       "      <td>0.0</td>\n",
       "      <td>2</td>\n",
       "    </tr>\n",
       "    <tr>\n",
       "      <th>64409</th>\n",
       "      <td>38</td>\n",
       "      <td>Away</td>\n",
       "      <td>1.0</td>\n",
       "      <td>14.0</td>\n",
       "      <td>1.400000</td>\n",
       "      <td>1.000000</td>\n",
       "      <td>2.351351</td>\n",
       "      <td>1.351351</td>\n",
       "      <td>2.0</td>\n",
       "      <td>0.0</td>\n",
       "      <td>2.4</td>\n",
       "      <td>2.000000</td>\n",
       "      <td>3.0</td>\n",
       "      <td>3.0</td>\n",
       "      <td>2</td>\n",
       "    </tr>\n",
       "  </tbody>\n",
       "</table>\n",
       "<p>63419 rows × 15 columns</p>\n",
       "</div>"
      ],
      "text/plain": [
       "       leg  play  previous_team_rank  previous_opponent_rank  \\\n",
       "0        2  Home                12.0                     2.0   \n",
       "1        3  Away                14.0                     8.0   \n",
       "2        4  Home                15.0                     4.0   \n",
       "3        5  Away                 6.0                    13.0   \n",
       "4        6  Home                 4.0                     5.0   \n",
       "...    ...   ...                 ...                     ...   \n",
       "64405   34  Away                 1.0                    18.0   \n",
       "64406   35  Home                 1.0                     8.0   \n",
       "64407   36  Away                 1.0                    12.0   \n",
       "64408   37  Home                 1.0                    18.0   \n",
       "64409   38  Away                 1.0                    14.0   \n",
       "\n",
       "       previous_team_rolling_5_games_avg_goals_scored  \\\n",
       "0                                            0.000000   \n",
       "1                                            0.500000   \n",
       "2                                            0.666667   \n",
       "3                                            0.750000   \n",
       "4                                            1.000000   \n",
       "...                                               ...   \n",
       "64405                                        2.000000   \n",
       "64406                                        2.000000   \n",
       "64407                                        1.400000   \n",
       "64408                                        1.000000   \n",
       "64409                                        1.400000   \n",
       "\n",
       "       previous_opponent_rolling_5_games_avg_goals_conceded  \\\n",
       "0                                               1.000000      \n",
       "1                                               1.500000      \n",
       "2                                               1.333333      \n",
       "3                                               1.250000      \n",
       "4                                               1.200000      \n",
       "...                                                  ...      \n",
       "64405                                           1.600000      \n",
       "64406                                           2.400000      \n",
       "64407                                           1.000000      \n",
       "64408                                           1.200000      \n",
       "64409                                           1.000000      \n",
       "\n",
       "       previous_team_avg_goals_scored_since_season_start  \\\n",
       "0                                               0.000000   \n",
       "1                                               0.500000   \n",
       "2                                               0.666667   \n",
       "3                                               0.750000   \n",
       "4                                               1.000000   \n",
       "...                                                  ...   \n",
       "64405                                           2.484848   \n",
       "64406                                           2.470588   \n",
       "64407                                           2.428571   \n",
       "64408                                           2.361111   \n",
       "64409                                           2.351351   \n",
       "\n",
       "       previous_opponent_avg_goals_conceded_since_season_start  \\\n",
       "0                                               1.000000         \n",
       "1                                               1.500000         \n",
       "2                                               1.333333         \n",
       "3                                               1.250000         \n",
       "4                                               1.200000         \n",
       "...                                                  ...         \n",
       "64405                                           1.484848         \n",
       "64406                                           1.352941         \n",
       "64407                                           1.114286         \n",
       "64408                                           1.416667         \n",
       "64409                                           1.351351         \n",
       "\n",
       "       previous_team_goals_scored  previous_opponent_goals_conceded  \\\n",
       "0                             0.0                               1.0   \n",
       "1                             1.0                               2.0   \n",
       "2                             1.0                               0.0   \n",
       "3                             1.0                               1.0   \n",
       "4                             2.0                               1.0   \n",
       "...                           ...                               ...   \n",
       "64405                         2.0                               2.0   \n",
       "64406                         2.0                               4.0   \n",
       "64407                         1.0                               0.0   \n",
       "64408                         0.0                               2.0   \n",
       "64409                         2.0                               0.0   \n",
       "\n",
       "       previous_team_rolling_5_games_avg_nb_points  \\\n",
       "0                                              1.0   \n",
       "1                                              1.0   \n",
       "2                                              1.0   \n",
       "3                                              1.5   \n",
       "4                                              1.8   \n",
       "...                                            ...   \n",
       "64405                                          2.2   \n",
       "64406                                          2.2   \n",
       "64407                                          2.6   \n",
       "64408                                          2.0   \n",
       "64409                                          2.4   \n",
       "\n",
       "       previous_opponent_rolling_5_games_avg_nb_points  \\\n",
       "0                                             3.000000   \n",
       "1                                             1.500000   \n",
       "2                                             1.666667   \n",
       "3                                             1.000000   \n",
       "4                                             1.800000   \n",
       "...                                                ...   \n",
       "64405                                         0.600000   \n",
       "64406                                         0.600000   \n",
       "64407                                         0.600000   \n",
       "64408                                         0.600000   \n",
       "64409                                         2.000000   \n",
       "\n",
       "       previous_team_nb_points  previous_opponent_nb_points  goals_scored  \n",
       "0                          1.0                          3.0             1  \n",
       "1                          1.0                          0.0             1  \n",
       "2                          1.0                          1.0             1  \n",
       "3                          3.0                          1.0             2  \n",
       "4                          3.0                          0.0             0  \n",
       "...                        ...                          ...           ...  \n",
       "64405                      3.0                          1.0             2  \n",
       "64406                      3.0                          0.0             1  \n",
       "64407                      3.0                          1.0             0  \n",
       "64408                      0.0                          0.0             2  \n",
       "64409                      3.0                          3.0             2  \n",
       "\n",
       "[63419 rows x 15 columns]"
      ]
     },
     "execution_count": 27,
     "metadata": {},
     "output_type": "execute_result"
    }
   ],
   "source": [
    "regressor_data_df"
   ]
  },
  {
   "cell_type": "code",
   "execution_count": 28,
   "metadata": {},
   "outputs": [],
   "source": [
    "# encode play variable\n",
    "regressor_data_df['play'] = [1 if p=='Home' else 0 for p in regressor_data_df.play]"
   ]
  },
  {
   "cell_type": "code",
   "execution_count": 29,
   "metadata": {},
   "outputs": [],
   "source": [
    "# split train-test-valid : 0.8x.95-0.2x.95-0.05\n",
    "features_data = regressor_data_df.drop('goals_scored', axis=1).values\n",
    "target_data = regressor_data_df['goals_scored'].values"
   ]
  },
  {
   "cell_type": "code",
   "execution_count": 30,
   "metadata": {},
   "outputs": [],
   "source": [
    "mm_scaler = MinMaxScaler(feature_range=(0,100))"
   ]
  },
  {
   "cell_type": "code",
   "execution_count": 31,
   "metadata": {},
   "outputs": [],
   "source": [
    "scale = False"
   ]
  },
  {
   "cell_type": "code",
   "execution_count": 32,
   "metadata": {},
   "outputs": [],
   "source": [
    "if scale:\n",
    "    feature_data = mm_scaler.fit_transform(features_data)"
   ]
  },
  {
   "cell_type": "code",
   "execution_count": 33,
   "metadata": {},
   "outputs": [],
   "source": [
    "X_model, X_valid, y_model, y_valid = train_test_split(features_data, \n",
    "                                                      target_data, \n",
    "                                                      test_size=0.05, \n",
    "                                                      random_state=42,\n",
    "                                                      stratify=target_data\n",
    "                                                     )\n",
    "\n",
    "X_train, X_test, y_train, y_test = train_test_split(X_model,\n",
    "                                                    y_model,\n",
    "                                                    test_size=.2,\n",
    "                                                    random_state=61,\n",
    "                                                    stratify=y_model\n",
    "                                                   )"
   ]
  },
  {
   "cell_type": "code",
   "execution_count": null,
   "metadata": {},
   "outputs": [],
   "source": [
    "oversample = False"
   ]
  },
  {
   "cell_type": "code",
   "execution_count": 34,
   "metadata": {},
   "outputs": [],
   "source": [
    "oversampler = SMOTE(random_state=42) #RandomOverSampler()"
   ]
  },
  {
   "cell_type": "code",
   "execution_count": 35,
   "metadata": {},
   "outputs": [],
   "source": [
    "if oversample:\n",
    "    X_train_over, y_train_over = oversampler.fit_resample(X_train, y_train)\n",
    "else:\n",
    "    X_train_over, y_train_over = X_train, y_train"
   ]
  },
  {
   "cell_type": "code",
   "execution_count": 36,
   "metadata": {},
   "outputs": [
    {
     "data": {
      "text/plain": [
       "83785"
      ]
     },
     "execution_count": 36,
     "metadata": {},
     "output_type": "execute_result"
    }
   ],
   "source": [
    "len(y_train_over)"
   ]
  },
  {
   "cell_type": "code",
   "execution_count": 37,
   "metadata": {},
   "outputs": [
    {
     "data": {
      "text/plain": [
       "48198"
      ]
     },
     "execution_count": 37,
     "metadata": {},
     "output_type": "execute_result"
    }
   ],
   "source": [
    "len(y_train)"
   ]
  },
  {
   "cell_type": "code",
   "execution_count": 38,
   "metadata": {},
   "outputs": [
    {
     "data": {
      "text/plain": [
       "Counter({2: 2670, 0: 3542, 1: 4189, 3: 1206, 4: 443})"
      ]
     },
     "execution_count": 38,
     "metadata": {},
     "output_type": "execute_result"
    }
   ],
   "source": [
    "Counter(y_test)"
   ]
  },
  {
   "cell_type": "markdown",
   "metadata": {},
   "source": [
    "#### Models "
   ]
  },
  {
   "cell_type": "code",
   "execution_count": 39,
   "metadata": {},
   "outputs": [],
   "source": [
    "def get_model(model_name:str, X, y):\n",
    "    \"\"\"\n",
    "    model_name: str: name of the model to be used. MUST be in \n",
    "    ['xgboost', 'random_forest', 'decision_tree', 'extra_tree']\n",
    "    X: array-like : feature\n",
    "    y: array-like : target\n",
    "    \n",
    "    returns: fitted model \n",
    "    \"\"\""
   ]
  },
  {
   "cell_type": "code",
   "execution_count": 40,
   "metadata": {},
   "outputs": [],
   "source": [
    "xgb_reg = XGBRegressor()"
   ]
  },
  {
   "cell_type": "code",
   "execution_count": 41,
   "metadata": {},
   "outputs": [],
   "source": [
    "rf_reg = RandomForestRegressor(random_state=42)"
   ]
  },
  {
   "cell_type": "code",
   "execution_count": 42,
   "metadata": {},
   "outputs": [],
   "source": [
    "extra_tree_reg = ExtraTreesRegressor(random_state=42)"
   ]
  },
  {
   "cell_type": "code",
   "execution_count": 43,
   "metadata": {},
   "outputs": [],
   "source": [
    "decision_tree_reg = DecisionTreeRegressor(random_state=42)"
   ]
  },
  {
   "cell_type": "code",
   "execution_count": 48,
   "metadata": {},
   "outputs": [],
   "source": [
    "#help(PoissonRegressor)"
   ]
  },
  {
   "cell_type": "code",
   "execution_count": 47,
   "metadata": {},
   "outputs": [],
   "source": [
    "ridge_reg = Ridge(random_state=42)\n",
    "sgd_reg = SGDRegressor(random_state=42)\n",
    "poisson_reg = PoissonRegressor()"
   ]
  },
  {
   "cell_type": "code",
   "execution_count": 45,
   "metadata": {},
   "outputs": [],
   "source": [
    "knn_reg = KNeighborsRegressor()\n",
    "mlp_reg = MLPRegressor(random_state=42)"
   ]
  },
  {
   "cell_type": "code",
   "execution_count": null,
   "metadata": {},
   "outputs": [],
   "source": []
  },
  {
   "cell_type": "code",
   "execution_count": null,
   "metadata": {},
   "outputs": [],
   "source": []
  },
  {
   "cell_type": "code",
   "execution_count": 49,
   "metadata": {},
   "outputs": [
    {
     "data": {
      "text/plain": [
       "XGBRegressor(base_score=0.5, booster='gbtree', colsample_bylevel=1,\n",
       "             colsample_bynode=1, colsample_bytree=1, gamma=0, gpu_id=-1,\n",
       "             importance_type='gain', interaction_constraints='',\n",
       "             learning_rate=0.300000012, max_delta_step=0, max_depth=6,\n",
       "             min_child_weight=1, missing=nan, monotone_constraints='()',\n",
       "             n_estimators=100, n_jobs=0, num_parallel_tree=1, random_state=0,\n",
       "             reg_alpha=0, reg_lambda=1, scale_pos_weight=1, subsample=1,\n",
       "             tree_method='exact', validate_parameters=1, verbosity=None)"
      ]
     },
     "execution_count": 49,
     "metadata": {},
     "output_type": "execute_result"
    }
   ],
   "source": [
    "xgb_reg.fit(X=X_train_over, y=y_train_over)"
   ]
  },
  {
   "cell_type": "code",
   "execution_count": 50,
   "metadata": {},
   "outputs": [
    {
     "data": {
      "text/plain": [
       "RandomForestRegressor(random_state=42)"
      ]
     },
     "execution_count": 50,
     "metadata": {},
     "output_type": "execute_result"
    }
   ],
   "source": [
    "rf_reg.fit(X=X_train_over, y=y_train_over)"
   ]
  },
  {
   "cell_type": "code",
   "execution_count": 51,
   "metadata": {},
   "outputs": [
    {
     "data": {
      "text/plain": [
       "ExtraTreesRegressor(random_state=42)"
      ]
     },
     "execution_count": 51,
     "metadata": {},
     "output_type": "execute_result"
    }
   ],
   "source": [
    "extra_tree_reg.fit(X=X_train_over, y=y_train_over)"
   ]
  },
  {
   "cell_type": "code",
   "execution_count": 52,
   "metadata": {},
   "outputs": [
    {
     "data": {
      "text/plain": [
       "DecisionTreeRegressor(random_state=42)"
      ]
     },
     "execution_count": 52,
     "metadata": {},
     "output_type": "execute_result"
    }
   ],
   "source": [
    "decision_tree_reg.fit(X=X_train_over, y=y_train_over)"
   ]
  },
  {
   "cell_type": "code",
   "execution_count": 53,
   "metadata": {},
   "outputs": [
    {
     "data": {
      "text/plain": [
       "PoissonRegressor()"
      ]
     },
     "execution_count": 53,
     "metadata": {},
     "output_type": "execute_result"
    }
   ],
   "source": [
    "sgd_reg.fit(X=X_train_over, y=y_train_over)\n",
    "ridge_reg.fit(X=X_train_over, y=y_train_over)\n",
    "poisson_reg.fit(X=X_train_over, y=y_train_over)"
   ]
  },
  {
   "cell_type": "code",
   "execution_count": 54,
   "metadata": {},
   "outputs": [
    {
     "data": {
      "text/plain": [
       "MLPRegressor(random_state=42)"
      ]
     },
     "execution_count": 54,
     "metadata": {},
     "output_type": "execute_result"
    }
   ],
   "source": [
    "knn_reg.fit(X=X_train_over, y=y_train_over)\n",
    "mlp_reg.fit(X=X_train_over, y=y_train_over)"
   ]
  },
  {
   "cell_type": "code",
   "execution_count": null,
   "metadata": {},
   "outputs": [],
   "source": []
  },
  {
   "cell_type": "code",
   "execution_count": null,
   "metadata": {},
   "outputs": [],
   "source": []
  },
  {
   "cell_type": "code",
   "execution_count": 55,
   "metadata": {},
   "outputs": [],
   "source": [
    "xgb_predictions = xgb_reg.predict(X_test)"
   ]
  },
  {
   "cell_type": "code",
   "execution_count": 56,
   "metadata": {},
   "outputs": [],
   "source": [
    "rf_predictions = rf_reg.predict(X_test)"
   ]
  },
  {
   "cell_type": "code",
   "execution_count": 57,
   "metadata": {},
   "outputs": [],
   "source": [
    "extra_tree_predictions = extra_tree_reg.predict(X_test)"
   ]
  },
  {
   "cell_type": "code",
   "execution_count": 58,
   "metadata": {},
   "outputs": [],
   "source": [
    "decision_tree_predictions = decision_tree_reg.predict(X_test)"
   ]
  },
  {
   "cell_type": "code",
   "execution_count": 59,
   "metadata": {},
   "outputs": [],
   "source": [
    "sgd_predictions = sgd_reg.predict(X_test)\n",
    "ridge_predictions = ridge_reg.predict(X_test)\n",
    "poisson_predictions = poisson_reg.predict(X_test)"
   ]
  },
  {
   "cell_type": "code",
   "execution_count": 60,
   "metadata": {},
   "outputs": [],
   "source": [
    "knn_predictions = knn_reg.predict(X_test)\n",
    "mlp_predictions = mlp_reg.predict(X_test)"
   ]
  },
  {
   "cell_type": "code",
   "execution_count": 61,
   "metadata": {},
   "outputs": [],
   "source": [
    "def to_closer_integer_A(x):\n",
    "    return math.ceil(int(2*max(x,0))/2)\n",
    "\n",
    "def to_closer_integer_B(x):\n",
    "    return math.floor(max(x,0))"
   ]
  },
  {
   "cell_type": "code",
   "execution_count": 62,
   "metadata": {},
   "outputs": [],
   "source": [
    "def predictions_to_scores_A(X):\n",
    "    return np.array([to_closer_integer_A(x) for x in X])\n",
    "\n",
    "def predictions_to_scores_B(X):\n",
    "    return np.array([to_closer_integer_B(x) for x in X])"
   ]
  },
  {
   "cell_type": "code",
   "execution_count": 63,
   "metadata": {},
   "outputs": [],
   "source": [
    "# Counter(xgb_predictions)"
   ]
  },
  {
   "cell_type": "code",
   "execution_count": 64,
   "metadata": {},
   "outputs": [],
   "source": [
    "# Counter(y_test)"
   ]
  },
  {
   "cell_type": "code",
   "execution_count": 65,
   "metadata": {},
   "outputs": [],
   "source": [
    "from sklearn.metrics import confusion_matrix, accuracy_score, f1_score"
   ]
  },
  {
   "cell_type": "code",
   "execution_count": 66,
   "metadata": {},
   "outputs": [],
   "source": [
    "naive_predictions = np.array([1]*len(y_test))"
   ]
  },
  {
   "cell_type": "code",
   "execution_count": 67,
   "metadata": {},
   "outputs": [
    {
     "data": {
      "text/plain": [
       "array([[   0, 3542,    0,    0,    0],\n",
       "       [   0, 4189,    0,    0,    0],\n",
       "       [   0, 2670,    0,    0,    0],\n",
       "       [   0, 1206,    0,    0,    0],\n",
       "       [   0,  443,    0,    0,    0]])"
      ]
     },
     "execution_count": 67,
     "metadata": {},
     "output_type": "execute_result"
    }
   ],
   "source": [
    "confusion_matrix(y_true=y_test, y_pred=naive_predictions)"
   ]
  },
  {
   "cell_type": "code",
   "execution_count": null,
   "metadata": {},
   "outputs": [],
   "source": []
  },
  {
   "cell_type": "code",
   "execution_count": 68,
   "metadata": {},
   "outputs": [
    {
     "data": {
      "text/plain": [
       "array([[  44, 2903,  589,    6,    0],\n",
       "       [  40, 3197,  943,    9,    0],\n",
       "       [  22, 1901,  736,   11,    0],\n",
       "       [   2,  777,  415,   12,    0],\n",
       "       [   4,  240,  190,    9,    0]])"
      ]
     },
     "execution_count": 68,
     "metadata": {},
     "output_type": "execute_result"
    }
   ],
   "source": [
    "confusion_matrix(y_true=y_test, y_pred=predictions_to_scores_A(xgb_predictions))"
   ]
  },
  {
   "cell_type": "code",
   "execution_count": 69,
   "metadata": {},
   "outputs": [
    {
     "data": {
      "text/plain": [
       "array([[1177, 2304,   61,    0,    0],\n",
       "       [1152, 2900,  135,    2,    0],\n",
       "       [ 563, 1969,  135,    3,    0],\n",
       "       [ 190,  925,   89,    2,    0],\n",
       "       [  57,  340,   44,    2,    0]])"
      ]
     },
     "execution_count": 69,
     "metadata": {},
     "output_type": "execute_result"
    }
   ],
   "source": [
    "confusion_matrix(y_true=y_test, y_pred=predictions_to_scores_B(xgb_predictions))"
   ]
  },
  {
   "cell_type": "code",
   "execution_count": null,
   "metadata": {},
   "outputs": [],
   "source": []
  },
  {
   "cell_type": "code",
   "execution_count": 70,
   "metadata": {},
   "outputs": [
    {
     "data": {
      "text/plain": [
       "array([[  17, 2736,  778,   11,    0],\n",
       "       [  19, 2986, 1160,   24,    0],\n",
       "       [  12, 1732,  901,   25,    0],\n",
       "       [   4,  680,  495,   27,    0],\n",
       "       [   2,  207,  227,    7,    0]])"
      ]
     },
     "execution_count": 70,
     "metadata": {},
     "output_type": "execute_result"
    }
   ],
   "source": [
    "confusion_matrix(y_true=y_test, y_pred=predictions_to_scores_A(rf_predictions))"
   ]
  },
  {
   "cell_type": "code",
   "execution_count": 71,
   "metadata": {},
   "outputs": [
    {
     "data": {
      "text/plain": [
       "array([[ 939, 2508,   94,    1,    0],\n",
       "       [ 855, 3135,  198,    1,    0],\n",
       "       [ 460, 2012,  197,    1,    0],\n",
       "       [ 140,  943,  121,    2,    0],\n",
       "       [  39,  334,   70,    0,    0]])"
      ]
     },
     "execution_count": 71,
     "metadata": {},
     "output_type": "execute_result"
    }
   ],
   "source": [
    "confusion_matrix(y_true=y_test, y_pred=predictions_to_scores_B(rf_predictions))"
   ]
  },
  {
   "cell_type": "code",
   "execution_count": null,
   "metadata": {},
   "outputs": [],
   "source": []
  },
  {
   "cell_type": "code",
   "execution_count": 72,
   "metadata": {},
   "outputs": [
    {
     "data": {
      "text/plain": [
       "array([[  38, 2726,  762,   16,    0],\n",
       "       [  34, 3004, 1121,   30,    0],\n",
       "       [  27, 1771,  833,   38,    1],\n",
       "       [   6,  682,  494,   23,    1],\n",
       "       [   3,  215,  211,   13,    1]])"
      ]
     },
     "execution_count": 72,
     "metadata": {},
     "output_type": "execute_result"
    }
   ],
   "source": [
    "confusion_matrix(y_true=y_test, y_pred=predictions_to_scores_A(extra_tree_predictions))"
   ]
  },
  {
   "cell_type": "code",
   "execution_count": 73,
   "metadata": {},
   "outputs": [
    {
     "data": {
      "text/plain": [
       "array([[ 970, 2448,  120,    4,    0],\n",
       "       [ 919, 3045,  222,    3,    0],\n",
       "       [ 477, 2012,  177,    4,    0],\n",
       "       [ 155,  921,  125,    5,    0],\n",
       "       [  48,  323,   70,    1,    1]])"
      ]
     },
     "execution_count": 73,
     "metadata": {},
     "output_type": "execute_result"
    }
   ],
   "source": [
    "confusion_matrix(y_true=y_test, y_pred=predictions_to_scores_B(extra_tree_predictions))"
   ]
  },
  {
   "cell_type": "code",
   "execution_count": null,
   "metadata": {},
   "outputs": [],
   "source": []
  },
  {
   "cell_type": "code",
   "execution_count": 74,
   "metadata": {},
   "outputs": [
    {
     "data": {
      "text/plain": [
       "array([[1165, 1183,  680,  380,  134],\n",
       "       [1255, 1362,  877,  486,  209],\n",
       "       [ 751,  837,  611,  318,  153],\n",
       "       [ 316,  359,  282,  160,   89],\n",
       "       [ 112,  122,  115,   58,   36]])"
      ]
     },
     "execution_count": 74,
     "metadata": {},
     "output_type": "execute_result"
    }
   ],
   "source": [
    "confusion_matrix(y_true=y_test, y_pred=predictions_to_scores_A(decision_tree_predictions))"
   ]
  },
  {
   "cell_type": "code",
   "execution_count": 75,
   "metadata": {},
   "outputs": [
    {
     "data": {
      "text/plain": [
       "array([[1169, 1184,  677,  378,  134],\n",
       "       [1259, 1363,  873,  485,  209],\n",
       "       [ 752,  839,  609,  317,  153],\n",
       "       [ 317,  359,  282,  159,   89],\n",
       "       [ 112,  122,  115,   58,   36]])"
      ]
     },
     "execution_count": 75,
     "metadata": {},
     "output_type": "execute_result"
    }
   ],
   "source": [
    "confusion_matrix(y_true=y_test, y_pred=predictions_to_scores_B(decision_tree_predictions))"
   ]
  },
  {
   "cell_type": "code",
   "execution_count": null,
   "metadata": {},
   "outputs": [],
   "source": []
  },
  {
   "cell_type": "code",
   "execution_count": 76,
   "metadata": {},
   "outputs": [
    {
     "data": {
      "text/plain": [
       "array([[   5, 1872, 1631,   34,    0],\n",
       "       [   1, 1801, 2309,   78,    0],\n",
       "       [   1,  926, 1669,   73,    1],\n",
       "       [   0,  337,  815,   54,    0],\n",
       "       [   0,  101,  311,   31,    0]])"
      ]
     },
     "execution_count": 76,
     "metadata": {},
     "output_type": "execute_result"
    }
   ],
   "source": [
    "confusion_matrix(y_true=y_test, y_pred=predictions_to_scores_A(sgd_predictions))"
   ]
  },
  {
   "cell_type": "code",
   "execution_count": 77,
   "metadata": {},
   "outputs": [
    {
     "data": {
      "text/plain": [
       "array([[ 436, 2641,  462,    3,    0],\n",
       "       [ 381, 3054,  749,    5,    0],\n",
       "       [ 178, 1877,  612,    3,    0],\n",
       "       [  47,  806,  348,    5,    0],\n",
       "       [  14,  251,  174,    4,    0]])"
      ]
     },
     "execution_count": 77,
     "metadata": {},
     "output_type": "execute_result"
    }
   ],
   "source": [
    "confusion_matrix(y_true=y_test, y_pred=predictions_to_scores_B(sgd_predictions))"
   ]
  },
  {
   "cell_type": "code",
   "execution_count": null,
   "metadata": {},
   "outputs": [],
   "source": []
  },
  {
   "cell_type": "code",
   "execution_count": 78,
   "metadata": {},
   "outputs": [
    {
     "data": {
      "text/plain": [
       "array([[   0, 1049, 2288,  204,    1],\n",
       "       [   0,  904, 2881,  402,    2],\n",
       "       [   0,  430, 1866,  373,    1],\n",
       "       [   0,  134,  840,  231,    1],\n",
       "       [   0,   31,  287,  125,    0]])"
      ]
     },
     "execution_count": 78,
     "metadata": {},
     "output_type": "execute_result"
    }
   ],
   "source": [
    "confusion_matrix(y_true=y_test, y_pred=predictions_to_scores_A(ridge_predictions))"
   ]
  },
  {
   "cell_type": "code",
   "execution_count": 79,
   "metadata": {},
   "outputs": [
    {
     "data": {
      "text/plain": [
       "array([[  68, 2336, 1127,   11,    0],\n",
       "       [  60, 2397, 1702,   30,    0],\n",
       "       [  27, 1305, 1304,   33,    1],\n",
       "       [   6,  479,  687,   34,    0],\n",
       "       [   1,  148,  271,   23,    0]])"
      ]
     },
     "execution_count": 79,
     "metadata": {},
     "output_type": "execute_result"
    }
   ],
   "source": [
    "confusion_matrix(y_true=y_test, y_pred=predictions_to_scores_B(ridge_predictions))"
   ]
  },
  {
   "cell_type": "code",
   "execution_count": null,
   "metadata": {},
   "outputs": [],
   "source": []
  },
  {
   "cell_type": "code",
   "execution_count": 80,
   "metadata": {},
   "outputs": [
    {
     "data": {
      "text/plain": [
       "array([[ 212, 1435, 1201,  544,  150],\n",
       "       [ 279, 1608, 1449,  674,  179],\n",
       "       [ 166,  919,  968,  475,  142],\n",
       "       [  50,  400,  423,  253,   80],\n",
       "       [  21,  135,  164,   91,   32]])"
      ]
     },
     "execution_count": 80,
     "metadata": {},
     "output_type": "execute_result"
    }
   ],
   "source": [
    "confusion_matrix(y_true=y_test, y_pred=predictions_to_scores_A(knn_predictions))"
   ]
  },
  {
   "cell_type": "code",
   "execution_count": 81,
   "metadata": {},
   "outputs": [
    {
     "data": {
      "text/plain": [
       "array([[ 711, 1509,  898,  336,   88],\n",
       "       [ 787, 1778, 1122,  374,  128],\n",
       "       [ 459, 1087,  748,  287,   89],\n",
       "       [ 164,  471,  375,  147,   49],\n",
       "       [  55,  168,  147,   50,   23]])"
      ]
     },
     "execution_count": 81,
     "metadata": {},
     "output_type": "execute_result"
    }
   ],
   "source": [
    "confusion_matrix(y_true=y_test, y_pred=predictions_to_scores_B(knn_predictions))"
   ]
  },
  {
   "cell_type": "code",
   "execution_count": null,
   "metadata": {},
   "outputs": [],
   "source": []
  },
  {
   "cell_type": "code",
   "execution_count": 82,
   "metadata": {},
   "outputs": [
    {
     "data": {
      "text/plain": [
       "array([[  42, 1696, 1674,  130,    0],\n",
       "       [  32, 1773, 2118,  260,    6],\n",
       "       [  14,  948, 1471,  231,    6],\n",
       "       [   9,  324,  708,  158,    7],\n",
       "       [   2,   93,  264,   80,    4]])"
      ]
     },
     "execution_count": 82,
     "metadata": {},
     "output_type": "execute_result"
    }
   ],
   "source": [
    "confusion_matrix(y_true=y_test, y_pred=predictions_to_scores_A(mlp_predictions))"
   ]
  },
  {
   "cell_type": "code",
   "execution_count": 83,
   "metadata": {},
   "outputs": [
    {
     "data": {
      "text/plain": [
       "array([[ 512, 2373,  640,   17,    0],\n",
       "       [ 454, 2712,  981,   42,    0],\n",
       "       [ 219, 1671,  724,   55,    1],\n",
       "       [  72,  685,  416,   33,    0],\n",
       "       [  24,  210,  184,   25,    0]])"
      ]
     },
     "execution_count": 83,
     "metadata": {},
     "output_type": "execute_result"
    }
   ],
   "source": [
    "confusion_matrix(y_true=y_test, y_pred=predictions_to_scores_B(mlp_predictions))"
   ]
  },
  {
   "cell_type": "code",
   "execution_count": null,
   "metadata": {},
   "outputs": [],
   "source": []
  },
  {
   "cell_type": "code",
   "execution_count": 84,
   "metadata": {},
   "outputs": [
    {
     "data": {
      "text/plain": [
       "array([[   0,  265, 3205,   72,    0],\n",
       "       [   0,  222, 3806,  161,    0],\n",
       "       [   0,   91, 2429,  150,    0],\n",
       "       [   0,   33, 1056,  117,    0],\n",
       "       [   0,    7,  370,   66,    0]])"
      ]
     },
     "execution_count": 84,
     "metadata": {},
     "output_type": "execute_result"
    }
   ],
   "source": [
    "confusion_matrix(y_true=y_test, y_pred=predictions_to_scores_A(poisson_predictions))"
   ]
  },
  {
   "cell_type": "code",
   "execution_count": 85,
   "metadata": {},
   "outputs": [
    {
     "data": {
      "text/plain": [
       "array([[   0, 2395, 1147,    0,    0],\n",
       "       [   0, 2506, 1683,    0,    0],\n",
       "       [   0, 1434, 1235,    1,    0],\n",
       "       [   0,  556,  650,    0,    0],\n",
       "       [   0,  158,  285,    0,    0]])"
      ]
     },
     "execution_count": 85,
     "metadata": {},
     "output_type": "execute_result"
    }
   ],
   "source": [
    "confusion_matrix(y_true=y_test, y_pred=predictions_to_scores_B(poisson_predictions))"
   ]
  },
  {
   "cell_type": "code",
   "execution_count": null,
   "metadata": {},
   "outputs": [],
   "source": []
  },
  {
   "cell_type": "code",
   "execution_count": 86,
   "metadata": {},
   "outputs": [
    {
     "data": {
      "text/plain": [
       "0.34763485477178424"
      ]
     },
     "execution_count": 86,
     "metadata": {},
     "output_type": "execute_result"
    }
   ],
   "source": [
    "accuracy_score(y_true=y_test, y_pred=naive_predictions)"
   ]
  },
  {
   "cell_type": "code",
   "execution_count": 87,
   "metadata": {},
   "outputs": [
    {
     "data": {
      "text/plain": [
       "0.33103734439834026"
      ]
     },
     "execution_count": 87,
     "metadata": {},
     "output_type": "execute_result"
    }
   ],
   "source": [
    "accuracy_score(y_true=y_test, y_pred=predictions_to_scores_A(xgb_predictions))"
   ]
  },
  {
   "cell_type": "code",
   "execution_count": 88,
   "metadata": {},
   "outputs": [
    {
     "data": {
      "text/plain": [
       "0.34970954356846473"
      ]
     },
     "execution_count": 88,
     "metadata": {},
     "output_type": "execute_result"
    }
   ],
   "source": [
    "accuracy_score(y_true=y_test, y_pred=predictions_to_scores_B(xgb_predictions))"
   ]
  },
  {
   "cell_type": "code",
   "execution_count": null,
   "metadata": {},
   "outputs": [],
   "source": []
  },
  {
   "cell_type": "code",
   "execution_count": 89,
   "metadata": {},
   "outputs": [
    {
     "data": {
      "text/plain": [
       "0.3262240663900415"
      ]
     },
     "execution_count": 89,
     "metadata": {},
     "output_type": "execute_result"
    }
   ],
   "source": [
    "accuracy_score(y_true=y_test, y_pred=predictions_to_scores_A(rf_predictions))"
   ]
  },
  {
   "cell_type": "code",
   "execution_count": 90,
   "metadata": {},
   "outputs": [
    {
     "data": {
      "text/plain": [
       "0.3546058091286307"
      ]
     },
     "execution_count": 90,
     "metadata": {},
     "output_type": "execute_result"
    }
   ],
   "source": [
    "accuracy_score(y_true=y_test, y_pred=predictions_to_scores_B(rf_predictions))"
   ]
  },
  {
   "cell_type": "code",
   "execution_count": null,
   "metadata": {},
   "outputs": [],
   "source": []
  },
  {
   "cell_type": "code",
   "execution_count": 91,
   "metadata": {},
   "outputs": [
    {
     "data": {
      "text/plain": [
       "0.32356846473029044"
      ]
     },
     "execution_count": 91,
     "metadata": {},
     "output_type": "execute_result"
    }
   ],
   "source": [
    "accuracy_score(y_true=y_test, y_pred=predictions_to_scores_A(extra_tree_predictions))"
   ]
  },
  {
   "cell_type": "code",
   "execution_count": 92,
   "metadata": {},
   "outputs": [
    {
     "data": {
      "text/plain": [
       "0.3483817427385892"
      ]
     },
     "execution_count": 92,
     "metadata": {},
     "output_type": "execute_result"
    }
   ],
   "source": [
    "accuracy_score(y_true=y_test, y_pred=predictions_to_scores_B(extra_tree_predictions))"
   ]
  },
  {
   "cell_type": "code",
   "execution_count": null,
   "metadata": {},
   "outputs": [],
   "source": []
  },
  {
   "cell_type": "code",
   "execution_count": 93,
   "metadata": {},
   "outputs": [
    {
     "data": {
      "text/plain": [
       "0.2766804979253112"
      ]
     },
     "execution_count": 93,
     "metadata": {},
     "output_type": "execute_result"
    }
   ],
   "source": [
    "accuracy_score(y_true=y_test, y_pred=predictions_to_scores_A(decision_tree_predictions))"
   ]
  },
  {
   "cell_type": "code",
   "execution_count": 94,
   "metadata": {},
   "outputs": [
    {
     "data": {
      "text/plain": [
       "0.27684647302904564"
      ]
     },
     "execution_count": 94,
     "metadata": {},
     "output_type": "execute_result"
    }
   ],
   "source": [
    "accuracy_score(y_true=y_test, y_pred=predictions_to_scores_B(decision_tree_predictions))"
   ]
  },
  {
   "cell_type": "code",
   "execution_count": null,
   "metadata": {},
   "outputs": [],
   "source": []
  },
  {
   "cell_type": "code",
   "execution_count": 95,
   "metadata": {},
   "outputs": [
    {
     "data": {
      "text/plain": [
       "0.24904564315352698"
      ]
     },
     "execution_count": 95,
     "metadata": {},
     "output_type": "execute_result"
    }
   ],
   "source": [
    "accuracy_score(y_true=y_test, y_pred=predictions_to_scores_A(ridge_predictions))"
   ]
  },
  {
   "cell_type": "code",
   "execution_count": 96,
   "metadata": {},
   "outputs": [
    {
     "data": {
      "text/plain": [
       "0.3156016597510373"
      ]
     },
     "execution_count": 96,
     "metadata": {},
     "output_type": "execute_result"
    }
   ],
   "source": [
    "accuracy_score(y_true=y_test, y_pred=predictions_to_scores_B(ridge_predictions))"
   ]
  },
  {
   "cell_type": "code",
   "execution_count": null,
   "metadata": {},
   "outputs": [],
   "source": []
  },
  {
   "cell_type": "code",
   "execution_count": 97,
   "metadata": {},
   "outputs": [
    {
     "data": {
      "text/plain": [
       "0.29286307053941907"
      ]
     },
     "execution_count": 97,
     "metadata": {},
     "output_type": "execute_result"
    }
   ],
   "source": [
    "accuracy_score(y_true=y_test, y_pred=predictions_to_scores_A(sgd_predictions))"
   ]
  },
  {
   "cell_type": "code",
   "execution_count": 98,
   "metadata": {},
   "outputs": [
    {
     "data": {
      "text/plain": [
       "0.3408298755186722"
      ]
     },
     "execution_count": 98,
     "metadata": {},
     "output_type": "execute_result"
    }
   ],
   "source": [
    "accuracy_score(y_true=y_test, y_pred=predictions_to_scores_B(sgd_predictions))"
   ]
  },
  {
   "cell_type": "code",
   "execution_count": null,
   "metadata": {},
   "outputs": [],
   "source": []
  },
  {
   "cell_type": "code",
   "execution_count": 99,
   "metadata": {},
   "outputs": [
    {
     "data": {
      "text/plain": [
       "0.25502074688796683"
      ]
     },
     "execution_count": 99,
     "metadata": {},
     "output_type": "execute_result"
    }
   ],
   "source": [
    "accuracy_score(y_true=y_test, y_pred=predictions_to_scores_A(knn_predictions))"
   ]
  },
  {
   "cell_type": "code",
   "execution_count": 100,
   "metadata": {},
   "outputs": [
    {
     "data": {
      "text/plain": [
       "0.28273858921161826"
      ]
     },
     "execution_count": 100,
     "metadata": {},
     "output_type": "execute_result"
    }
   ],
   "source": [
    "accuracy_score(y_true=y_test, y_pred=predictions_to_scores_B(knn_predictions))"
   ]
  },
  {
   "cell_type": "code",
   "execution_count": null,
   "metadata": {},
   "outputs": [],
   "source": []
  },
  {
   "cell_type": "code",
   "execution_count": 101,
   "metadata": {},
   "outputs": [
    {
     "data": {
      "text/plain": [
       "0.2861410788381743"
      ]
     },
     "execution_count": 101,
     "metadata": {},
     "output_type": "execute_result"
    }
   ],
   "source": [
    "accuracy_score(y_true=y_test, y_pred=predictions_to_scores_A(mlp_predictions))"
   ]
  },
  {
   "cell_type": "code",
   "execution_count": 102,
   "metadata": {},
   "outputs": [
    {
     "data": {
      "text/plain": [
       "0.3303734439834025"
      ]
     },
     "execution_count": 102,
     "metadata": {},
     "output_type": "execute_result"
    }
   ],
   "source": [
    "accuracy_score(y_true=y_test, y_pred=predictions_to_scores_B(mlp_predictions))"
   ]
  },
  {
   "cell_type": "code",
   "execution_count": null,
   "metadata": {},
   "outputs": [],
   "source": []
  },
  {
   "cell_type": "code",
   "execution_count": 103,
   "metadata": {},
   "outputs": [
    {
     "data": {
      "text/plain": [
       "0.22970954356846474"
      ]
     },
     "execution_count": 103,
     "metadata": {},
     "output_type": "execute_result"
    }
   ],
   "source": [
    "accuracy_score(y_true=y_test, y_pred=predictions_to_scores_A(poisson_predictions))"
   ]
  },
  {
   "cell_type": "code",
   "execution_count": 104,
   "metadata": {},
   "outputs": [
    {
     "data": {
      "text/plain": [
       "0.3104564315352697"
      ]
     },
     "execution_count": 104,
     "metadata": {},
     "output_type": "execute_result"
    }
   ],
   "source": [
    "accuracy_score(y_true=y_test, y_pred=predictions_to_scores_B(poisson_predictions))"
   ]
  },
  {
   "cell_type": "code",
   "execution_count": null,
   "metadata": {},
   "outputs": [],
   "source": [
    "#for c, fi in zip(usable_cols, xgb_reg.feature_importances_):\n",
    "#    print(f\"importance of {c} : {fi}\")"
   ]
  },
  {
   "cell_type": "code",
   "execution_count": null,
   "metadata": {},
   "outputs": [],
   "source": [
    "#for c, fi in zip(usable_cols,rf_reg.feature_importances_):\n",
    "#    print(f\"importance of {c} : {fi}\")"
   ]
  },
  {
   "cell_type": "code",
   "execution_count": null,
   "metadata": {},
   "outputs": [],
   "source": [
    "#for c, fi in zip(usable_cols,extra_tree_reg.feature_importances_):\n",
    "#    print(f\"importance of {c} : {fi}\")"
   ]
  }
 ],
 "metadata": {
  "kernelspec": {
   "display_name": "labo_day",
   "language": "python",
   "name": "labo_day"
  },
  "language_info": {
   "codemirror_mode": {
    "name": "ipython",
    "version": 3
   },
   "file_extension": ".py",
   "mimetype": "text/x-python",
   "name": "python",
   "nbconvert_exporter": "python",
   "pygments_lexer": "ipython3",
   "version": "3.8.10"
  }
 },
 "nbformat": 4,
 "nbformat_minor": 4
}
