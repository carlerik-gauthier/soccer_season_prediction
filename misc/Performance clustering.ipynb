{
 "cells": [
  {
   "cell_type": "markdown",
   "metadata": {},
   "source": [
    "prendre les parcours (évolution des pts) de toutes les équipes et de toutes les saisons\n",
    "\n",
    "padder les équipes allemandes jusqu'à leg 38\n",
    "\n",
    "Faire un UMAP + HDBSCAN (k-means ou autre algo de clusterin) dessus\n",
    "\n",
    "rattacher le cluster correspondant aux équipes-saisons et une petite analyse des clusters"
   ]
  }
 ],
 "metadata": {
  "kernelspec": {
   "display_name": "env_labo",
   "language": "python",
   "name": "env_labo"
  },
  "language_info": {
   "codemirror_mode": {
    "name": "ipython",
    "version": 3
   },
   "file_extension": ".py",
   "mimetype": "text/x-python",
   "name": "python",
   "nbconvert_exporter": "python",
   "pygments_lexer": "ipython3",
   "version": "3.7.9"
  }
 },
 "nbformat": 4,
 "nbformat_minor": 4
}
