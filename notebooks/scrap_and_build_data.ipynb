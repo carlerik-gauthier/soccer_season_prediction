{
 "cells": [
  {
   "cell_type": "markdown",
   "metadata": {},
   "source": [
    "Le but de ce notebook est d'extraire les résultats des différentes journées de football au sein du championnat de France (Ligue 1 & 2) et des autres grands championnat (DE, ESP, UK, IT).\n",
    "\n",
    "Les données sont scraper sur le site de l'Equipe"
   ]
  },
  {
   "cell_type": "code",
   "execution_count": 1,
   "metadata": {},
   "outputs": [],
   "source": [
    "from bs4 import BeautifulSoup\n",
    "import urllib3\n",
    "import requests\n",
    "import pandas as pd\n",
    "import re\n",
    "import random\n",
    "import time\n",
    "import datetime\n",
    "from copy import deepcopy\n",
    "import numpy as np"
   ]
  },
  {
   "cell_type": "code",
   "execution_count": null,
   "metadata": {},
   "outputs": [],
   "source": [
    "test_link = \"https://www.lequipe.fr/Football/ligue-1/saison-2018-2019/page-calendrier-resultats/38e-journee\"\n",
    "token = \"https://www.lequipe.fr/Football/ligue-1/saison-2018-2019/page-calendrier-resultats/{leg}-journee\""
   ]
  },
  {
   "cell_type": "code",
   "execution_count": null,
   "metadata": {},
   "outputs": [],
   "source": []
  },
  {
   "cell_type": "markdown",
   "metadata": {},
   "source": [
    "Ce que nous voulons:\n",
    "\n",
    "- HomeTeam span\n",
    "- AwayTeam \n",
    "- Score: class Teamscore div -> </a>"
   ]
  },
  {
   "cell_type": "code",
   "execution_count": null,
   "metadata": {},
   "outputs": [],
   "source": [
    "#response = requests.get(test_link)\n",
    "#soup = BeautifulSoup(response.text, 'html.parser')\n",
    "#team_box = soup.find_all(\"span\", {\"class\": \"TeamScore__nameshort\"})\n",
    "#score_box = soup.find_all(\"div\", {\"class\": \"TeamScore__score TeamScore__score--ended\"})"
   ]
  },
  {
   "cell_type": "code",
   "execution_count": null,
   "metadata": {},
   "outputs": [],
   "source": []
  },
  {
   "cell_type": "code",
   "execution_count": null,
   "metadata": {},
   "outputs": [],
   "source": [
    "bug_link = 'https://www.lequipe.fr/Football/ligue-1/saison-2007-2008/page-calendrier-resultats/24e-journee'"
   ]
  },
  {
   "cell_type": "code",
   "execution_count": null,
   "metadata": {},
   "outputs": [],
   "source": [
    "response = requests.get(bug_link)\n",
    "soup = BeautifulSoup(response.text, 'html.parser')\n",
    "team_box = soup.find_all(\"span\", {\"class\": \"TeamScore__nameshort\"})\n",
    "score_box = soup.find_all(\"div\", {\"class\": \"TeamScore__score TeamScore__score--ended\"})"
   ]
  },
  {
   "cell_type": "code",
   "execution_count": null,
   "metadata": {},
   "outputs": [],
   "source": [
    "# soup"
   ]
  },
  {
   "cell_type": "code",
   "execution_count": null,
   "metadata": {},
   "outputs": [],
   "source": [
    "conf = {\n",
    "    'ligue-1' : {\n",
    "        'country' : 'France',\n",
    "        'first_season_start' : 2002,\n",
    "        'last_season_start' : 2018,\n",
    "        'nb_teams': 20,\n",
    "        'url_template' : 'https://www.lequipe.fr/Football/ligue-1/saison-{season}/page-calendrier-resultats/{leg}-journee'\n",
    "    },\n",
    "    'ligue-2' : {\n",
    "        'country' : 'France',\n",
    "        'first_season_start' : 2002,\n",
    "        'last_season_start' : 2018,\n",
    "        'nb_teams': 20,\n",
    "        'url_template' : 'https://www.lequipe.fr/Football/ligue-2/saison-{season}/page-calendrier-resultats/{leg}-journee'\n",
    "    },\n",
    "    \n",
    "    'bundesliga' : {\n",
    "        'country' : 'Germany',\n",
    "        'first_season_start' : 2004,\n",
    "        'last_season_start' : 2018,\n",
    "        'nb_teams': 18,\n",
    "        'url_template' : 'https://www.lequipe.fr/Football/championnat-d-allemagne/saison-{season}/page-calendrier-resultats/{leg}-journee'\n",
    "    },\n",
    "    \n",
    "    'liga' : {\n",
    "        'country' : 'Spain',\n",
    "        'first_season_start' : 2004,\n",
    "        'last_season_start' : 2018,\n",
    "        'nb_teams': 20,\n",
    "        'url_template' : 'https://www.lequipe.fr/Football/championnat-d-espagne/saison-{season}/page-calendrier-resultats/{leg}-journee'\n",
    "    },\n",
    "    \n",
    "    'premier-league' : {\n",
    "        'country' : 'England',\n",
    "        'first_season_start' : 2004,\n",
    "        'last_season_start' : 2018,\n",
    "        'nb_teams': 20,\n",
    "        'url_template' : 'https://www.lequipe.fr/Football/championnat-d-angleterre/saison-{season}/page-calendrier-resultats/{leg}-journee'\n",
    "    },\n",
    "    \n",
    "    'serie-a' : {\n",
    "        'country' : 'Italy',\n",
    "        'first_season_start' : 2004,\n",
    "        'last_season_start' : 2018,\n",
    "        'nb_teams': 20,\n",
    "        'url_template' : 'https://www.lequipe.fr/Football/championnat-d-italie/saison-{season}/page-calendrier-resultats/{leg}-journee'\n",
    "    },\n",
    "}"
   ]
  },
  {
   "cell_type": "code",
   "execution_count": null,
   "metadata": {},
   "outputs": [],
   "source": [
    "conf_covid_season = {\n",
    "    'ligue-1' : {\n",
    "        'country' : 'France',\n",
    "        'first_season_start' : 2019,\n",
    "        'last_season_start' : 2019,\n",
    "        'nb_teams': 20,\n",
    "        'url_template' : 'https://www.lequipe.fr/Football/ligue-1/saison-{season}/page-calendrier-resultats/{leg}-journee'\n",
    "    },\n",
    "    'ligue-2' : {\n",
    "        'country' : 'France',\n",
    "        'first_season_start' : 2019,\n",
    "        'last_season_start' : 2019,\n",
    "        'nb_teams': 20,\n",
    "        'url_template' : 'https://www.lequipe.fr/Football/ligue-2/saison-{season}/page-calendrier-resultats/{leg}-journee'\n",
    "    },\n",
    "    \n",
    "    'bundesliga' : {\n",
    "        'country' : 'Germany',\n",
    "        'first_season_start' : 2019,\n",
    "        'last_season_start' : 2019,\n",
    "        'nb_teams': 18,\n",
    "        'url_template' : 'https://www.lequipe.fr/Football/championnat-d-allemagne/saison-{season}/page-calendrier-resultats/{leg}-journee'\n",
    "    },\n",
    "    \n",
    "    'liga' : {\n",
    "        'country' : 'Spain',\n",
    "        'first_season_start' : 2019,\n",
    "        'last_season_start' : 2019,\n",
    "        'nb_teams': 20,\n",
    "        'url_template' : 'https://www.lequipe.fr/Football/championnat-d-espagne/saison-{season}/page-calendrier-resultats/{leg}-journee'\n",
    "    },\n",
    "    \n",
    "    'premier-league' : {\n",
    "        'country' : 'England',\n",
    "        'first_season_start' : 2019,\n",
    "        'last_season_start' : 2019,\n",
    "        'nb_teams': 20,\n",
    "        'url_template' : 'https://www.lequipe.fr/Football/championnat-d-angleterre/saison-{season}/page-calendrier-resultats/{leg}-journee'\n",
    "    },\n",
    "    \n",
    "    'serie-a' : {\n",
    "        'country' : 'Italy',\n",
    "        'first_season_start' : 2019,\n",
    "        'last_season_start' : 2019,\n",
    "        'nb_teams': 20,\n",
    "        'url_template' : 'https://www.lequipe.fr/Football/championnat-d-italie/saison-{season}/page-calendrier-resultats/{leg}-journee'\n",
    "    },\n",
    "}"
   ]
  },
  {
   "cell_type": "code",
   "execution_count": null,
   "metadata": {},
   "outputs": [],
   "source": [
    "conf_redo = {\n",
    "    'ligue-1' : {\n",
    "        'country' : 'France',\n",
    "        'first_season_start' : 2019,\n",
    "        'last_season_start' : 2019,\n",
    "        'nb_teams': 20,\n",
    "        'url_template' : 'https://www.lequipe.fr/Football/ligue-1/saison-{season}/page-calendrier-resultats/{leg}-journee'\n",
    "    }\n",
    "}"
   ]
  },
  {
   "cell_type": "code",
   "execution_count": 22,
   "metadata": {},
   "outputs": [
    {
     "data": {
      "text/plain": [
       "[\"L'dfd\"]"
      ]
     },
     "execution_count": 22,
     "metadata": {},
     "output_type": "execute_result"
    }
   ],
   "source": [
    "re.findall(r'([0-9îê\\'üöëéèâÉa-zA-Z-\\s?]+)', \"L'dfd\")"
   ]
  },
  {
   "cell_type": "code",
   "execution_count": 30,
   "metadata": {},
   "outputs": [
    {
     "data": {
      "text/plain": [
       "[]"
      ]
     },
     "execution_count": 30,
     "metadata": {},
     "output_type": "execute_result"
    }
   ],
   "source": [
    "re.findall(r'>([0-9]+)</span', \">9</span\")"
   ]
  },
  {
   "cell_type": "code",
   "execution_count": 71,
   "metadata": {},
   "outputs": [],
   "source": [
    "def pause():\n",
    "    \"\"\"\n",
    "    The goal of this section is to pause the execution before 2 scraping executions\n",
    "    :return: wait 1, 2, 3, 4 or 4 seconds\n",
    "    \"\"\"\n",
    "    time_break = random.randint(1, 4)\n",
    "    return time.sleep(time_break)\n",
    "\n",
    "def get_url_leg(url_template, season, nbr, pattern_first=None):\n",
    "    \"\"\"\n",
    "    :param url_template: str: template of the url to be used\n",
    "    :param season: str\n",
    "    :param nbr: int: leg number\n",
    "    \n",
    "    :return a completed url \n",
    "    \"\"\"\n",
    "    pattern_first = \"1ere\" if pattern_first is None else pattern_first\n",
    "    leg_token = \"{}e\".format(nbr) if nbr > 1 else pattern_first\n",
    "    return url_template.format(leg=leg_token, season=season)\n",
    "\n",
    "\n",
    "def transform_box_to_data(box, regex_pattern, data_name, data_type):\n",
    "    \"\"\"\n",
    "    :param box: eautifulSoup box corresponding to 1 part of the data\n",
    "    :param regex_pattern: regexp value extract the relevant data\n",
    "    :param data_name: str: name of the data we're interested in\n",
    "    :param data_type: str: converting type for the extracted data\n",
    "    \n",
    "    :return dataframe with all data retrieved from the box\n",
    "    \"\"\"\n",
    "    elements = []\n",
    "    # extract from box\n",
    "    for box_elem in box:\n",
    "        for x in box_elem:\n",
    "            elem = re.findall(regex_pattern, str(x))\n",
    "            if elem:\n",
    "                # print(elem)\n",
    "                elem = int(elem[0]) if data_type == 'int' else elem[0]\n",
    "                elements.append(elem)\n",
    "    \n",
    "    # build data\n",
    "    data = {'key': [('Home' if i%2==0 else 'Away') + '_' + str(i//2) for i, _ in enumerate(elements)],\n",
    "           data_name: elements}\n",
    "    return pd.DataFrame(data=data)\n",
    "\n"
   ]
  },
  {
   "cell_type": "code",
   "execution_count": null,
   "metadata": {},
   "outputs": [],
   "source": []
  },
  {
   "cell_type": "code",
   "execution_count": 31,
   "metadata": {},
   "outputs": [],
   "source": [
    "url = 'https://www.lequipe.fr/Football/championnat-d-espagne/saison-2015-2016/page-calendrier-resultats/16e-journee'"
   ]
  },
  {
   "cell_type": "code",
   "execution_count": 56,
   "metadata": {},
   "outputs": [
    {
     "name": "stdout",
     "output_type": "stream",
     "text": [
      "['2']\n",
      "['2']\n",
      "['1']\n",
      "['0']\n",
      "['0']\n",
      "['0']\n",
      "['2']\n",
      "['0']\n",
      "['10']\n",
      "['2']\n",
      "['0']\n",
      "['2']\n",
      "['0']\n",
      "['2']\n",
      "['2']\n",
      "['0']\n",
      "['1']\n",
      "['0']\n",
      "['1']\n",
      "['3']\n"
     ]
    }
   ],
   "source": [
    "response = requests.get(url)\n",
    "\n",
    "soup = BeautifulSoup(response.text, 'html.parser')\n",
    "\n",
    "team_box = soup.find_all(\"span\", {\"class\": \"TeamScore__nameshort\"})\n",
    "score_box = soup.find_all(\"div\", {\"class\": [\"TeamScore__score TeamScore__score--ended\", \n",
    "                                            \"TeamScore__score TeamScore__score--ended TeamScore__score--long\"\n",
    "                                            ]})\n",
    "# \"TeamScore__score TeamScore__score--ended TeamScore__score--long\"\n",
    "\n",
    "goal_scored_df = transform_box_to_data(box=score_box, regex_pattern=r'>([0-9]+)</span',  \n",
    "                                       data_name='goals_scored', data_type='int')"
   ]
  },
  {
   "cell_type": "code",
   "execution_count": 57,
   "metadata": {},
   "outputs": [
    {
     "data": {
      "text/html": [
       "<div>\n",
       "<style scoped>\n",
       "    .dataframe tbody tr th:only-of-type {\n",
       "        vertical-align: middle;\n",
       "    }\n",
       "\n",
       "    .dataframe tbody tr th {\n",
       "        vertical-align: top;\n",
       "    }\n",
       "\n",
       "    .dataframe thead th {\n",
       "        text-align: right;\n",
       "    }\n",
       "</style>\n",
       "<table border=\"1\" class=\"dataframe\">\n",
       "  <thead>\n",
       "    <tr style=\"text-align: right;\">\n",
       "      <th></th>\n",
       "      <th>key</th>\n",
       "      <th>goals_scored</th>\n",
       "    </tr>\n",
       "  </thead>\n",
       "  <tbody>\n",
       "    <tr>\n",
       "      <th>0</th>\n",
       "      <td>Home_0</td>\n",
       "      <td>2</td>\n",
       "    </tr>\n",
       "    <tr>\n",
       "      <th>1</th>\n",
       "      <td>Away_0</td>\n",
       "      <td>2</td>\n",
       "    </tr>\n",
       "    <tr>\n",
       "      <th>2</th>\n",
       "      <td>Home_1</td>\n",
       "      <td>1</td>\n",
       "    </tr>\n",
       "    <tr>\n",
       "      <th>3</th>\n",
       "      <td>Away_1</td>\n",
       "      <td>0</td>\n",
       "    </tr>\n",
       "    <tr>\n",
       "      <th>4</th>\n",
       "      <td>Home_2</td>\n",
       "      <td>0</td>\n",
       "    </tr>\n",
       "    <tr>\n",
       "      <th>5</th>\n",
       "      <td>Away_2</td>\n",
       "      <td>0</td>\n",
       "    </tr>\n",
       "    <tr>\n",
       "      <th>6</th>\n",
       "      <td>Home_3</td>\n",
       "      <td>2</td>\n",
       "    </tr>\n",
       "    <tr>\n",
       "      <th>7</th>\n",
       "      <td>Away_3</td>\n",
       "      <td>0</td>\n",
       "    </tr>\n",
       "    <tr>\n",
       "      <th>8</th>\n",
       "      <td>Home_4</td>\n",
       "      <td>10</td>\n",
       "    </tr>\n",
       "    <tr>\n",
       "      <th>9</th>\n",
       "      <td>Away_4</td>\n",
       "      <td>2</td>\n",
       "    </tr>\n",
       "    <tr>\n",
       "      <th>10</th>\n",
       "      <td>Home_5</td>\n",
       "      <td>0</td>\n",
       "    </tr>\n",
       "    <tr>\n",
       "      <th>11</th>\n",
       "      <td>Away_5</td>\n",
       "      <td>2</td>\n",
       "    </tr>\n",
       "    <tr>\n",
       "      <th>12</th>\n",
       "      <td>Home_6</td>\n",
       "      <td>0</td>\n",
       "    </tr>\n",
       "    <tr>\n",
       "      <th>13</th>\n",
       "      <td>Away_6</td>\n",
       "      <td>2</td>\n",
       "    </tr>\n",
       "    <tr>\n",
       "      <th>14</th>\n",
       "      <td>Home_7</td>\n",
       "      <td>2</td>\n",
       "    </tr>\n",
       "    <tr>\n",
       "      <th>15</th>\n",
       "      <td>Away_7</td>\n",
       "      <td>0</td>\n",
       "    </tr>\n",
       "    <tr>\n",
       "      <th>16</th>\n",
       "      <td>Home_8</td>\n",
       "      <td>1</td>\n",
       "    </tr>\n",
       "    <tr>\n",
       "      <th>17</th>\n",
       "      <td>Away_8</td>\n",
       "      <td>0</td>\n",
       "    </tr>\n",
       "    <tr>\n",
       "      <th>18</th>\n",
       "      <td>Home_9</td>\n",
       "      <td>1</td>\n",
       "    </tr>\n",
       "    <tr>\n",
       "      <th>19</th>\n",
       "      <td>Away_9</td>\n",
       "      <td>3</td>\n",
       "    </tr>\n",
       "  </tbody>\n",
       "</table>\n",
       "</div>"
      ],
      "text/plain": [
       "       key  goals_scored\n",
       "0   Home_0             2\n",
       "1   Away_0             2\n",
       "2   Home_1             1\n",
       "3   Away_1             0\n",
       "4   Home_2             0\n",
       "5   Away_2             0\n",
       "6   Home_3             2\n",
       "7   Away_3             0\n",
       "8   Home_4            10\n",
       "9   Away_4             2\n",
       "10  Home_5             0\n",
       "11  Away_5             2\n",
       "12  Home_6             0\n",
       "13  Away_6             2\n",
       "14  Home_7             2\n",
       "15  Away_7             0\n",
       "16  Home_8             1\n",
       "17  Away_8             0\n",
       "18  Home_9             1\n",
       "19  Away_9             3"
      ]
     },
     "execution_count": 57,
     "metadata": {},
     "output_type": "execute_result"
    }
   ],
   "source": [
    "goal_scored_df"
   ]
  },
  {
   "cell_type": "code",
   "execution_count": null,
   "metadata": {},
   "outputs": [],
   "source": []
  },
  {
   "cell_type": "code",
   "execution_count": null,
   "metadata": {},
   "outputs": [],
   "source": []
  },
  {
   "cell_type": "code",
   "execution_count": null,
   "metadata": {},
   "outputs": [],
   "source": []
  },
  {
   "cell_type": "code",
   "execution_count": 60,
   "metadata": {},
   "outputs": [],
   "source": [
    "def get_leg_data(season:str, leg:int, championship: str, country: str, url: str):\n",
    "    \"\"\"\n",
    "    :param season: str: \n",
    "    :param leg: int: leg number\n",
    "    :param championship: str: name of the championship\n",
    "    :param country: str: name of the country\n",
    "    :param url: str: url from which data is retrieved\n",
    "    \n",
    "    :return dataframe with all retrieved data \n",
    "    \"\"\"\n",
    "    \n",
    "    # print('leg : {}'.format(leg))\n",
    "    \n",
    "    response = requests.get(url)\n",
    "\n",
    "    soup = BeautifulSoup(response.text, 'html.parser')\n",
    "\n",
    "    team_box = soup.find_all(\"span\", {\"class\": \"TeamScore__nameshort\"})\n",
    "    score_box = soup.find_all(\"div\", {\"class\": [\"TeamScore__score TeamScore__score--ended\", \n",
    "                                            \"TeamScore__score TeamScore__score--ended TeamScore__score--long\"\n",
    "                                            ]})\n",
    "    \n",
    "    goal_scored_df = transform_box_to_data(box=score_box, regex_pattern=r'>([0-9]+)</span',  \n",
    "                                           data_name='goals_scored', data_type='int')\n",
    "    team_df = transform_box_to_data(box=team_box, regex_pattern=r'>([0-9îê\\'üöëéèâÉa-zA-Z-\\s?]+)</span', \n",
    "                                    data_name='team', data_type='str')\n",
    "    \n",
    "    leg_df = pd.merge(team_df, goal_scored_df, on='key')\n",
    "    leg_df['leg'] = leg\n",
    "    leg_df['season'] = season\n",
    "    leg_df['championship'] = championship\n",
    "    leg_df['country'] = country\n",
    "    \n",
    "    leg_df[['play', 'game_number']] = leg_df[['key']].apply(lambda k: k['key'].split('_'), \n",
    "                                                            axis=1, \n",
    "                                                            result_type='expand')\n",
    "\n",
    "    leg_df['opponent_key'] = leg_df['key'].apply(\n",
    "        lambda k: '{}'.format('Away' if k.startswith('Home') else 'Home') + '_' + k.split('_')[-1]\n",
    "    )\n",
    "\n",
    "\n",
    "    opponent_df = leg_df[['key', 'team', 'goals_scored']]\n",
    "    opponent_df.rename(columns={'key': 'opponent_key', 'team': 'opponent', 'goals_scored': 'goals_conceded'},\n",
    "                      inplace=True)\n",
    "\n",
    "    leg_df = leg_df.merge(opponent_df, on='opponent_key')\n",
    "\n",
    "    leg_df['nb_points'] = leg_df[['goals_scored', 'goals_conceded']].apply(\n",
    "        lambda r : 3*(r['goals_scored']>r['goals_conceded'])+ (r['goals_scored']==r['goals_conceded']),\n",
    "        axis=1\n",
    "    )\n",
    "        \n",
    "    return leg_df[['country', 'season', 'leg', 'team', 'play', 'goals_scored', 'opponent', \n",
    "                   'goals_conceded', 'nb_points']]"
   ]
  },
  {
   "cell_type": "code",
   "execution_count": 61,
   "metadata": {},
   "outputs": [],
   "source": [
    "def get_leg_data_covid_missing(leg:int, championship: str, url: str):\n",
    "    \"\"\"\n",
    "    :param season: str: \n",
    "    :param leg: int: leg number\n",
    "    :param championship: str: name of the championship\n",
    "    :param country: str: name of the country\n",
    "    :param url: str: url from which data is retrieved\n",
    "    \n",
    "    :return dataframe with all retrieved data \n",
    "    \"\"\"\n",
    "    \n",
    "    # print('leg : {}'.format(leg))\n",
    "    \n",
    "    response = requests.get(url)\n",
    "\n",
    "    soup = BeautifulSoup(response.text, 'html.parser')\n",
    "\n",
    "    team_box = soup.find_all(\"span\", {\"class\": \"TeamScore__nameshort\"})\n",
    "    \n",
    "    team_df = transform_box_to_data(box=team_box, regex_pattern=r'>([0-9îê\\'üöëéèâÉa-zA-Z-\\s?]+)</span', \n",
    "                                    data_name='team', data_type='str')\n",
    "    \n",
    "    leg_df = deepcopy(team_df)\n",
    "    leg_df['leg'] = leg\n",
    "    leg_df['season'] = '2019-2020'\n",
    "    leg_df['championship'] = championship\n",
    "    leg_df['country'] = 'France'\n",
    "\n",
    "    \n",
    "    leg_df[['play', 'game_number']] = leg_df[['key']].apply(lambda k: k['key'].split('_'), \n",
    "                                                            axis=1, \n",
    "                                                            result_type='expand')\n",
    "\n",
    "    leg_df['opponent_key'] = leg_df['key'].apply(\n",
    "        lambda k: '{}'.format('Away' if k.startswith('Home') else 'Home') + '_' + k.split('_')[-1]\n",
    "    )\n",
    "\n",
    "\n",
    "    opponent_df = leg_df[['key', 'team']]\n",
    "    opponent_df.rename(columns={'key': 'opponent_key', 'team': 'opponent'},\n",
    "                      inplace=True)\n",
    "\n",
    "    leg_df = leg_df.merge(opponent_df, on='opponent_key')\n",
    "\n",
    "    \n",
    "        \n",
    "    return leg_df[['country', 'season', 'leg', 'team', 'play', 'opponent']]"
   ]
  },
  {
   "cell_type": "code",
   "execution_count": null,
   "metadata": {},
   "outputs": [],
   "source": []
  },
  {
   "cell_type": "code",
   "execution_count": null,
   "metadata": {},
   "outputs": [],
   "source": []
  },
  {
   "cell_type": "code",
   "execution_count": 62,
   "metadata": {},
   "outputs": [],
   "source": [
    "def get_season_data(url_template, championship, country, season, nb_legs, pattern_first=None):\n",
    "    \"\"\"\n",
    "    :param url_template: str: template to use in order to get data for a specific championship and season \n",
    "    :param championship: str: name of the championship\n",
    "    :param country: str: name of the country\n",
    "    :param season: str\n",
    "    :param nb_legs: int: number of legs to be played for a season\n",
    "    \n",
    "    :return dataframe containing all data for a specific championship and season \n",
    "    \"\"\"\n",
    "    leg_dfs_ll = []\n",
    "    for leg in range(1, nb_legs+1):   \n",
    "        url = get_url_leg(url_template=url_template, season=season, nbr=leg, pattern_first=pattern_first)\n",
    "        try:\n",
    "            leg_df = get_leg_data(season=season, leg=leg, championship=championship,\n",
    "                                  country=country, url=url)\n",
    "            leg_dfs_ll.append(leg_df)\n",
    "        except ValueError:\n",
    "            \n",
    "            # covid exception\n",
    "            if (country=='France' and season=='2019-2020' and leg > 26) :\n",
    "                try:\n",
    "                    leg_df = get_leg_data_covid_missing(leg=leg, championship=championship, url=url)\n",
    "                    leg_dfs_ll.append(leg_df)\n",
    "                except ValueError:\n",
    "                    print(\"\"\"Could not get data : \\n\n",
    "                                championship : {champ},\\n\n",
    "                                season : '2019-2020', \\n\n",
    "                                leg : {leg}\"\"\".format(champ=championship, leg=leg))\n",
    "            else:\n",
    "                print(\"\"\"Could not get data : \\n\n",
    "                championship : {champ},\\n\n",
    "                season : {season}, \\n\n",
    "                leg : {leg}\"\"\".format(champ=championship, season=season, leg=leg))\n",
    "        pause()\n",
    "        \n",
    "    return pd.concat(leg_dfs_ll, ignore_index=True) "
   ]
  },
  {
   "cell_type": "code",
   "execution_count": 63,
   "metadata": {},
   "outputs": [],
   "source": [
    "def get_championship_data(championship, c_conf, pattern_first=None):\n",
    "    \"\"\"\n",
    "    :param championship: str: name of the championship\n",
    "    :param c_conf: dict: configuration file focused on the specified championship\n",
    "    \n",
    "    :return dataframe with all the data for the corresponding championship\n",
    "    \"\"\"\n",
    "    start = c_conf['first_season_start']\n",
    "    end = c_conf['last_season_start']\n",
    "    nb_teams = c_conf['nb_teams']\n",
    "    nb_legs = 2*(nb_teams-1)\n",
    "    country = c_conf['country']\n",
    "    url_template = c_conf['url_template']\n",
    "    season_dfs_ll = []\n",
    "    for year in range(start, end+1):\n",
    "        season = '{s}-{e}'.format(s=year, e=year+1)\n",
    "        print('{}, season {}'.format(championship, season))\n",
    "        season_df = get_season_data(url_template=url_template,\n",
    "                                    championship=championship,\n",
    "                                    country=country,\n",
    "                                    season=season,\n",
    "                                    nb_legs=nb_legs,\n",
    "                                    pattern_first=pattern_first)\n",
    "        season_dfs_ll.append(season_df)\n",
    "        pause()\n",
    "        \n",
    "    return pd.concat(season_dfs_ll, ignore_index=True)"
   ]
  },
  {
   "cell_type": "code",
   "execution_count": 64,
   "metadata": {},
   "outputs": [],
   "source": [
    "def get_data(conf, pattern_first=None):\n",
    "    \"\"\"\n",
    "    :param conf: dict: configuration file containing all needed informations to collect the data\n",
    "    \n",
    "    :return None\n",
    "    \"\"\"\n",
    "    for championship, c_conf in conf.items():\n",
    "        data = get_championship_data(championship=championship, c_conf=c_conf, pattern_first=pattern_first)\n",
    "        name = championship+'_data_{start}_{end}'.format(start=c_conf['first_season_start'],\n",
    "                                                        end=c_conf['last_season_start']+1)\n",
    "        data.to_csv(name)"
   ]
  },
  {
   "cell_type": "code",
   "execution_count": null,
   "metadata": {
    "scrolled": true
   },
   "outputs": [],
   "source": [
    "%%time\n",
    "get_data(conf=conf_redo, pattern_first = \"1re\")"
   ]
  },
  {
   "cell_type": "code",
   "execution_count": null,
   "metadata": {},
   "outputs": [],
   "source": [
    "df =pd.read_csv('ligue-1_data_2019_2020')"
   ]
  },
  {
   "cell_type": "code",
   "execution_count": null,
   "metadata": {
    "scrolled": true
   },
   "outputs": [],
   "source": [
    "df[['leg', 'season']].groupby(by=['leg']).count()"
   ]
  },
  {
   "cell_type": "code",
   "execution_count": null,
   "metadata": {},
   "outputs": [],
   "source": [
    "df[df.leg==28]"
   ]
  },
  {
   "cell_type": "code",
   "execution_count": null,
   "metadata": {},
   "outputs": [],
   "source": []
  },
  {
   "cell_type": "code",
   "execution_count": 8,
   "metadata": {},
   "outputs": [],
   "source": [
    "def get_missing_leg(url_template, season, leg, championship, country, pattern_first=None ):\n",
    "    url = get_url_leg(url_template=url_template, season=season, nbr=leg, pattern_first=pattern_first)\n",
    "    print(url)\n",
    "    try:\n",
    "        leg_df = get_leg_data(season=season, leg=leg, championship=championship,\n",
    "                              country=country, url=url)\n",
    "        csv_file = f'missing_{championship}_{season}_{leg}'\n",
    "        \n",
    "        print(csv_file)\n",
    "        leg_df.to_csv(csv_file)\n",
    "        return leg_df\n",
    "    except ValueError:\n",
    "        print(\"\"\"Could not get data : \\n\n",
    "        championship : {champ},\\n\n",
    "        season : {season}, \\n\n",
    "        leg : {leg}\"\"\".format(champ=championship, season=season, leg=leg))"
   ]
  },
  {
   "cell_type": "code",
   "execution_count": 58,
   "metadata": {},
   "outputs": [],
   "source": [
    "url_template = 'https://www.lequipe.fr/Football/championnat-d-espagne/saison-{season}/page-calendrier-resultats/{leg}-journee'\n",
    "season = '2015-2016'\n",
    "leg = 16\n",
    "championship = 'liga'\n",
    "country = 'Spain'\n",
    "pattern_first = \"1re\""
   ]
  },
  {
   "cell_type": "code",
   "execution_count": 65,
   "metadata": {
    "scrolled": true
   },
   "outputs": [
    {
     "name": "stdout",
     "output_type": "stream",
     "text": [
      "https://www.lequipe.fr/Football/championnat-d-espagne/saison-2015-2016/page-calendrier-resultats/16e-journee\n",
      "['2']\n",
      "['2']\n",
      "['1']\n",
      "['0']\n",
      "['0']\n",
      "['0']\n",
      "['2']\n",
      "['0']\n",
      "['10']\n",
      "['2']\n",
      "['0']\n",
      "['2']\n",
      "['0']\n",
      "['2']\n",
      "['2']\n",
      "['0']\n",
      "['1']\n",
      "['0']\n",
      "['1']\n",
      "['3']\n",
      "['Valence CF']\n",
      "['Getafe']\n",
      "['Espanyol Barcelone']\n",
      "['Las Palmas']\n",
      "['Betis Séville']\n",
      "['Séville FC']\n",
      "['La Corogne']\n",
      "['Eibar']\n",
      "['Real Madrid']\n",
      "['Rayo Vallecano']\n",
      "['Grenade CF']\n",
      "['Celta Vigo']\n",
      "['Real Sociedad']\n",
      "['Villarreal']\n",
      "['Athletic Bilbao']\n",
      "['Levante']\n",
      "['Malaga']\n",
      "['Atlético de Madrid']\n",
      "['Gijon']\n",
      "['FC Barcelone']\n",
      "missing_liga_2015-2016_16\n"
     ]
    }
   ],
   "source": [
    "df = get_missing_leg(url_template=url_template, \n",
    "                    season=season,\n",
    "                    leg=leg, \n",
    "                    championship=championship,\n",
    "                    country=country ,\n",
    "                    pattern_first=pattern_first)"
   ]
  },
  {
   "cell_type": "code",
   "execution_count": null,
   "metadata": {},
   "outputs": [],
   "source": []
  },
  {
   "cell_type": "code",
   "execution_count": 13,
   "metadata": {},
   "outputs": [],
   "source": [
    "def add_missing_dataframe(stem_dataframe_csv_path, \n",
    "                          missing_dataframe_csv_path,\n",
    "                         sort_by_value=None):\n",
    "    \n",
    "    _, _, season, leg = missing_dataframe_csv_path.split(\"_\")\n",
    "    leg=int(leg)\n",
    "    \n",
    "    stem = pd.read_csv(stem_dataframe_csv_path).drop(columns='Unnamed: 0')\n",
    "    \n",
    "    stem = deepcopy(stem[(stem.season!=season) | (stem.leg!=leg)])\n",
    "    \n",
    "    missing = pd.read_csv(missing_dataframe_csv_path).drop(columns='Unnamed: 0')\n",
    "    \n",
    "    glued = pd.concat([stem, missing], ignore_index=True).drop_duplicates()\n",
    "    \n",
    "    if sort_by_value:\n",
    "        dg = glued.sort_values(by=sort_by_value, axis=0, ascending=True).reset_index(drop=True)\n",
    "    \n",
    "    dg.to_csv(stem_dataframe_csv_path)"
   ]
  },
  {
   "cell_type": "code",
   "execution_count": null,
   "metadata": {},
   "outputs": [],
   "source": [
    "def add_record_to_dataframe(stem_dataframe_csv_path, \n",
    "                          record_df,\n",
    "                         sort_by_value=None):\n",
    "    stem = pd.read_csv(stem_dataframe_csv_path).drop(columns='Unnamed: 0')\n",
    "    \n",
    "    glued = pd.concat([stem, record_df], ignore_index=True).drop_duplicates()\n",
    "    \n",
    "    if sort_by_value:\n",
    "        dg = glued.sort_values(by=sort_by_value, axis=0, ascending=True).reset_index(drop=True)\n",
    "    \n",
    "    dg.to_csv(stem_dataframe_csv_path)"
   ]
  },
  {
   "cell_type": "code",
   "execution_count": null,
   "metadata": {},
   "outputs": [],
   "source": [
    "\"s_s_d_sdsd\".split(\"_\")"
   ]
  },
  {
   "cell_type": "code",
   "execution_count": 21,
   "metadata": {},
   "outputs": [],
   "source": [
    "# Bundesliga\n",
    "add_missing_dataframe(stem_dataframe_csv_path='bundesliga_data_2004_2019',\n",
    "                      missing_dataframe_csv_path='missing_bundesliga_2011-2012_1',\n",
    "                      sort_by_value=['season', 'leg']\n",
    "                     )"
   ]
  },
  {
   "cell_type": "code",
   "execution_count": 17,
   "metadata": {},
   "outputs": [],
   "source": [
    "# Bundesliga\n",
    "add_missing_dataframe(stem_dataframe_csv_path='bundesliga_data_2004_2019',\n",
    "                      missing_dataframe_csv_path='missing_bundesliga_2014-2015_1',\n",
    "                      sort_by_value=['season', 'leg']\n",
    "                     )"
   ]
  },
  {
   "cell_type": "code",
   "execution_count": null,
   "metadata": {},
   "outputs": [],
   "source": [
    "# Ligue 1\n",
    "add_missing_dataframe(stem_dataframe_csv_path='ligue-1_data_2002_2019',\n",
    "                      missing_dataframe_csv_path='missing_ligue-1_2007-2008_24',\n",
    "                      sort_by_value=['season', 'leg']\n",
    "                     )"
   ]
  },
  {
   "cell_type": "code",
   "execution_count": null,
   "metadata": {},
   "outputs": [],
   "source": [
    "# Ligue 1\n",
    "add_missing_dataframe(stem_dataframe_csv_path='ligue-1_data_2002_2019',\n",
    "                      missing_dataframe_csv_path='missing_ligue-1_2015-2016_15',\n",
    "                      sort_by_value=['season', 'leg']\n",
    "                     )"
   ]
  },
  {
   "cell_type": "code",
   "execution_count": null,
   "metadata": {},
   "outputs": [],
   "source": [
    "# Ligue 2\n",
    "add_missing_dataframe(stem_dataframe_csv_path='ligue-2_data_2002_2019',\n",
    "                      missing_dataframe_csv_path='missing_ligue-2_2015-2016_6',\n",
    "                      sort_by_value=['season', 'leg']\n",
    "                     )"
   ]
  },
  {
   "cell_type": "code",
   "execution_count": null,
   "metadata": {},
   "outputs": [],
   "source": [
    "# Serie A\n",
    "add_missing_dataframe(stem_dataframe_csv_path='serie-a_data_2004_2019',\n",
    "                      missing_dataframe_csv_path='missing_serie-a_2010-2011_17',\n",
    "                      sort_by_value=['season', 'leg']\n",
    "                     )"
   ]
  },
  {
   "cell_type": "code",
   "execution_count": null,
   "metadata": {},
   "outputs": [],
   "source": [
    "# Liga\n",
    "add_missing_dataframe(stem_dataframe_csv_path='liga_data_2004_2019',\n",
    "                      missing_dataframe_csv_path='missing_liga_2011-2012_27',\n",
    "                      sort_by_value=['season', 'leg']\n",
    "                     )"
   ]
  },
  {
   "cell_type": "code",
   "execution_count": 72,
   "metadata": {},
   "outputs": [],
   "source": [
    "# Liga\n",
    "add_missing_dataframe(stem_dataframe_csv_path='liga_data_2004_2019',\n",
    "                      missing_dataframe_csv_path='missing_liga_2015-2016_16',\n",
    "                      sort_by_value=['season', 'leg']\n",
    "                     )"
   ]
  },
  {
   "cell_type": "code",
   "execution_count": null,
   "metadata": {},
   "outputs": [],
   "source": []
  },
  {
   "cell_type": "code",
   "execution_count": null,
   "metadata": {},
   "outputs": [],
   "source": [
    "# Serie A (2nd time)\n",
    "add_missing_dataframe(stem_dataframe_csv_path='serie-a_data_2004_2019',\n",
    "                      missing_dataframe_csv_path='missing_serie-a_2004-2005_1',\n",
    "                      sort_by_value=['season', 'leg']\n",
    "                     )"
   ]
  },
  {
   "cell_type": "code",
   "execution_count": null,
   "metadata": {},
   "outputs": [],
   "source": [
    "add_missing_dataframe(stem_dataframe_csv_path='serie-a_data_2004_2019',\n",
    "                      missing_dataframe_csv_path='missing_serie-a_2004-2005_34',\n",
    "                      sort_by_value=['season', 'leg']\n",
    "                     )"
   ]
  },
  {
   "cell_type": "code",
   "execution_count": null,
   "metadata": {},
   "outputs": [],
   "source": [
    "record = pd.DataFrame(data={'country' : ['France']*2,\n",
    "'season': ['2019-2020']*2,\n",
    "'leg': [28]*2,\n",
    "'team':['Strasbourg', 'Paris-SG'],\n",
    "'play':['Home', 'Away'],\n",
    "'goals_scored':[np.nan, np.nan],\n",
    "'opponent':['Paris-SG', 'Strasbourg'],\n",
    "'goals_conceded':[np.nan,np.nan],\n",
    "'nb_points':[np.nan,np.nan]})"
   ]
  },
  {
   "cell_type": "code",
   "execution_count": null,
   "metadata": {},
   "outputs": [],
   "source": [
    "record"
   ]
  },
  {
   "cell_type": "code",
   "execution_count": null,
   "metadata": {},
   "outputs": [],
   "source": [
    "add_record_to_dataframe(stem_dataframe_csv_path='ligue-1_data_2019_2020', \n",
    "                          record_df=record,\n",
    "                         sort_by_value=['season', 'leg'])"
   ]
  },
  {
   "cell_type": "code",
   "execution_count": null,
   "metadata": {},
   "outputs": [],
   "source": []
  },
  {
   "cell_type": "code",
   "execution_count": null,
   "metadata": {},
   "outputs": [],
   "source": [
    "record = pd.DataFrame(data={'country' : ['France']*2,\n",
    "'season': ['2011-2012']*2,\n",
    "'leg': [19]*2,\n",
    "'team':['Saint-Étienne', 'Paris-SG'],\n",
    "'play':['Home', 'Away'],\n",
    "'goals_scored':[0, 1],\n",
    "'opponent':['Paris-SG', 'Saint-Étienne'],\n",
    "'goals_conceded':[1,0],\n",
    "'nb_points':[0,3]})"
   ]
  },
  {
   "cell_type": "code",
   "execution_count": null,
   "metadata": {},
   "outputs": [],
   "source": []
  },
  {
   "cell_type": "code",
   "execution_count": null,
   "metadata": {},
   "outputs": [],
   "source": [
    "add_record_to_dataframe(stem_dataframe_csv_path='ligue-1_data_2002_2019', \n",
    "                          record_df=record,\n",
    "                         sort_by_value=['season', 'leg'])"
   ]
  },
  {
   "cell_type": "code",
   "execution_count": null,
   "metadata": {},
   "outputs": [],
   "source": [
    "record = pd.DataFrame(data={'country' : ['France']*2,\n",
    "'season': ['2014-2015']*2,\n",
    "'leg': [1]*2,\n",
    "'team':['Monaco', 'Lorient'],\n",
    "'play':['Home', 'Away'],\n",
    "'goals_scored':[1, 2],\n",
    "'opponent':['Lorient', 'Monaco'],\n",
    "'goals_conceded':[2,1],\n",
    "'nb_points':[0,3]})"
   ]
  },
  {
   "cell_type": "code",
   "execution_count": null,
   "metadata": {},
   "outputs": [],
   "source": [
    "add_record_to_dataframe(stem_dataframe_csv_path='ligue-1_data_2002_2019', \n",
    "                          record_df=record,\n",
    "                         sort_by_value=['season', 'leg'])"
   ]
  },
  {
   "cell_type": "code",
   "execution_count": null,
   "metadata": {},
   "outputs": [],
   "source": []
  },
  {
   "cell_type": "code",
   "execution_count": null,
   "metadata": {},
   "outputs": [],
   "source": []
  }
 ],
 "metadata": {
  "kernelspec": {
   "display_name": "Python 3",
   "language": "python",
   "name": "python3"
  },
  "language_info": {
   "codemirror_mode": {
    "name": "ipython",
    "version": 3
   },
   "file_extension": ".py",
   "mimetype": "text/x-python",
   "name": "python",
   "nbconvert_exporter": "python",
   "pygments_lexer": "ipython3",
   "version": "3.7.9"
  }
 },
 "nbformat": 4,
 "nbformat_minor": 2
}
